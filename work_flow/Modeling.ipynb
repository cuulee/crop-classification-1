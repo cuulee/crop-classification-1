{
 "cells": [
  {
   "cell_type": "code",
   "execution_count": 21,
   "metadata": {},
   "outputs": [],
   "source": [
    "import numpy as np\n",
    "import pandas as pd\n",
    "import geopandas as gpd\n",
    "import matplotlib as mpl\n",
    "import matplotlib.pyplot as plt"
   ]
  },
  {
   "cell_type": "code",
   "execution_count": 23,
   "metadata": {},
   "outputs": [],
   "source": [
    "#samples = gpd.read_file('/Users/AuerPower/Metis/git/crop-classification/data/intermediate/samples.shp')\n",
    "samples = pd.read_csv('/Users/AuerPower/Metis/git/crop-classification/data/intermediate/samples_df.csv')"
   ]
  },
  {
   "cell_type": "code",
   "execution_count": 25,
   "metadata": {},
   "outputs": [
    {
     "data": {
      "text/html": [
       "<div>\n",
       "<style scoped>\n",
       "    .dataframe tbody tr th:only-of-type {\n",
       "        vertical-align: middle;\n",
       "    }\n",
       "\n",
       "    .dataframe tbody tr th {\n",
       "        vertical-align: top;\n",
       "    }\n",
       "\n",
       "    .dataframe thead th {\n",
       "        text-align: right;\n",
       "    }\n",
       "</style>\n",
       "<table border=\"1\" class=\"dataframe\">\n",
       "  <thead>\n",
       "    <tr style=\"text-align: right;\">\n",
       "      <th></th>\n",
       "      <th>Unnamed: 0</th>\n",
       "      <th>crop</th>\n",
       "      <th>ndvi</th>\n",
       "      <th>gndvi</th>\n",
       "      <th>red_edge</th>\n",
       "      <th>nrde</th>\n",
       "      <th>ndii</th>\n",
       "      <th>msi</th>\n",
       "      <th>x</th>\n",
       "      <th>y</th>\n",
       "      <th>xy</th>\n",
       "    </tr>\n",
       "  </thead>\n",
       "  <tbody>\n",
       "    <tr>\n",
       "      <th>0</th>\n",
       "      <td>1</td>\n",
       "      <td>8</td>\n",
       "      <td>0.264971</td>\n",
       "      <td>0.274380</td>\n",
       "      <td>0.693147</td>\n",
       "      <td>0.273363</td>\n",
       "      <td>0.004765</td>\n",
       "      <td>0.990514</td>\n",
       "      <td>552665</td>\n",
       "      <td>6859815</td>\n",
       "      <td>True</td>\n",
       "    </tr>\n",
       "    <tr>\n",
       "      <th>1</th>\n",
       "      <td>2</td>\n",
       "      <td>8</td>\n",
       "      <td>0.465839</td>\n",
       "      <td>0.380117</td>\n",
       "      <td>0.466010</td>\n",
       "      <td>0.434886</td>\n",
       "      <td>0.227703</td>\n",
       "      <td>0.629059</td>\n",
       "      <td>552425</td>\n",
       "      <td>6859805</td>\n",
       "      <td>True</td>\n",
       "    </tr>\n",
       "    <tr>\n",
       "      <th>2</th>\n",
       "      <td>3</td>\n",
       "      <td>8</td>\n",
       "      <td>0.467351</td>\n",
       "      <td>0.439367</td>\n",
       "      <td>0.466010</td>\n",
       "      <td>0.434886</td>\n",
       "      <td>0.227703</td>\n",
       "      <td>0.629059</td>\n",
       "      <td>552435</td>\n",
       "      <td>6859805</td>\n",
       "      <td>True</td>\n",
       "    </tr>\n",
       "    <tr>\n",
       "      <th>3</th>\n",
       "      <td>4</td>\n",
       "      <td>8</td>\n",
       "      <td>0.355581</td>\n",
       "      <td>0.363952</td>\n",
       "      <td>0.485912</td>\n",
       "      <td>0.415068</td>\n",
       "      <td>0.189808</td>\n",
       "      <td>0.680943</td>\n",
       "      <td>552445</td>\n",
       "      <td>6859805</td>\n",
       "      <td>True</td>\n",
       "    </tr>\n",
       "    <tr>\n",
       "      <th>4</th>\n",
       "      <td>5</td>\n",
       "      <td>8</td>\n",
       "      <td>0.337409</td>\n",
       "      <td>0.342539</td>\n",
       "      <td>0.485912</td>\n",
       "      <td>0.415068</td>\n",
       "      <td>0.189808</td>\n",
       "      <td>0.680943</td>\n",
       "      <td>552455</td>\n",
       "      <td>6859805</td>\n",
       "      <td>True</td>\n",
       "    </tr>\n",
       "  </tbody>\n",
       "</table>\n",
       "</div>"
      ],
      "text/plain": [
       "   Unnamed: 0  crop      ndvi     gndvi  red_edge      nrde      ndii  \\\n",
       "0           1     8  0.264971  0.274380  0.693147  0.273363  0.004765   \n",
       "1           2     8  0.465839  0.380117  0.466010  0.434886  0.227703   \n",
       "2           3     8  0.467351  0.439367  0.466010  0.434886  0.227703   \n",
       "3           4     8  0.355581  0.363952  0.485912  0.415068  0.189808   \n",
       "4           5     8  0.337409  0.342539  0.485912  0.415068  0.189808   \n",
       "\n",
       "        msi       x        y    xy  \n",
       "0  0.990514  552665  6859815  True  \n",
       "1  0.629059  552425  6859805  True  \n",
       "2  0.629059  552435  6859805  True  \n",
       "3  0.680943  552445  6859805  True  \n",
       "4  0.680943  552455  6859805  True  "
      ]
     },
     "execution_count": 25,
     "metadata": {},
     "output_type": "execute_result"
    }
   ],
   "source": [
    "samples.rename(columns={'layer': 'crop','veg_indices.1': 'ndvi', \n",
    "                        'veg_indices.2': 'gndvi', 'veg_indices.3': 'red_edge', \n",
    "                        'veg_indices.4': 'nrde', 'veg_indices.5': 'ndii', 'veg_indices.6': 'msi'\n",
    "                        }, inplace=True)\n",
    "samples.head()"
   ]
  },
  {
   "cell_type": "markdown",
   "metadata": {},
   "source": [
    "### Set up cross validation for model selection"
   ]
  },
  {
   "cell_type": "code",
   "execution_count": null,
   "metadata": {},
   "outputs": [],
   "source": []
  },
  {
   "cell_type": "code",
   "execution_count": 26,
   "metadata": {},
   "outputs": [],
   "source": [
    "from sklearn.model_selection import train_test_split\n",
    "\n",
    "#X = votes.iloc[:,0:16] # features\n",
    "#y = votes.iloc[:,16] # target\n",
    "\n",
    "X = samples.iloc[:,2:7] # features\n",
    "y = samples['crop'] # target\n",
    "\n",
    "X_train, X_test, y_train, y_test = train_test_split(X, y, test_size=0.2, random_state=42)"
   ]
  },
  {
   "cell_type": "code",
   "execution_count": 27,
   "metadata": {},
   "outputs": [
    {
     "data": {
      "text/plain": [
       "Text(0, 0.5, 'Score')"
      ]
     },
     "execution_count": 27,
     "metadata": {},
     "output_type": "execute_result"
    },
    {
     "data": {
      "image/png": "[encoded data removed]",
      "text/plain": [
       "<Figure size 432x288 with 1 Axes>"
      ]
     },
     "metadata": {},
     "output_type": "display_data"
    }
   ],
   "source": [
    "from sklearn.neighbors import KNeighborsClassifier\n",
    "from sklearn import metrics\n",
    "from sklearn.metrics import accuracy_score\n",
    "import matplotlib.pyplot as plt\n",
    "%matplotlib inline\n",
    "import seaborn as sns\n",
    "plt.style.use('ggplot')\n",
    "\n",
    "scores =[]\n",
    "k_range = list(range(1, 100))\n",
    "\n",
    "for n in k_range:\n",
    "    knn = KNeighborsClassifier(n_neighbors=n)\n",
    "    knn.fit(X_train, y_train)\n",
    "    y_pred = knn.predict(X_test)\n",
    "    scores.append(metrics.accuracy_score(y_test, y_pred))\n",
    "\n",
    "\n",
    "# plot the value of K for KNN (x-axis) versus the cross-validated accuracy (y-axis)\n",
    "plt.plot(scores) #list(range(0, 100)),\n",
    "plt.xlabel('Number of neighbors')\n",
    "plt.ylabel('Score')"
   ]
  },
  {
   "cell_type": "code",
   "execution_count": null,
   "metadata": {},
   "outputs": [],
   "source": []
  }
 ],
 "metadata": {
  "kernelspec": {
   "display_name": "Python [conda env:metis] *",
   "language": "python",
   "name": "conda-env-metis-py"
  },
  "language_info": {
   "codemirror_mode": {
    "name": "ipython",
    "version": 3
   },
   "file_extension": ".py",
   "mimetype": "text/x-python",
   "name": "python",
   "nbconvert_exporter": "python",
   "pygments_lexer": "ipython3",
   "version": "3.7.4"
  }
 },
 "nbformat": 4,
 "nbformat_minor": 2
}
