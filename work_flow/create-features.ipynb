{
 "cells": [
  {
   "cell_type": "code",
   "execution_count": 48,
   "metadata": {},
   "outputs": [],
   "source": [
    "import numpy as np\n",
    "import geopandas as gpd\n",
    "import matplotlib as mpl\n",
    "import matplotlib.pyplot as plt\n",
    "import rasterio as rio\n",
    "import math"
   ]
  },
  {
   "cell_type": "code",
   "execution_count": 2,
   "metadata": {},
   "outputs": [],
   "source": [
    "#samples = gpd.read_file('/Users/AuerPower/Metis/git/crop-classification/data/intermediate/samples.shp')"
   ]
  },
  {
   "cell_type": "markdown",
   "metadata": {},
   "source": [
    "## Functions for calculating vegetation indices from spectral bands\n",
    "[Source of formulas](https://www.sentinel-hub.com/develop/documentation/eo_products/Sentinel2EOproducts)"
   ]
  },
  {
   "cell_type": "code",
   "execution_count": 51,
   "metadata": {},
   "outputs": [],
   "source": [
    "### Normalized Difference Vegetation Index  (NDVI)\n",
    "def ndvi(B08, B04):\n",
    "    index = (B08 - B04) / (B08 + B04)\n",
    "    return index\n",
    "\n",
    "# Green Normalized Difference Vegetation Index   (GNDVI)\n",
    "def gndvi(B08, B03):\n",
    "    index = (B08 - B03) / (B08 + B03)\n",
    "    return index\n",
    "\n",
    "# Modified Chlorophyll Absorption in Reflectance Index (MCARI)\n",
    "# General formula: ((700nm - 670nm) - 0.2 * (700nm - 550nm)) * (700nm /670nm)\n",
    "def mcari(B05, B04, B03):\n",
    "    index = ((B05 - B04) - 0.2 * (B05 - B03)) * (B05 / B04)\n",
    "    return index\n",
    "\n",
    "# Chlorophyll Red-Edge\n",
    "# General formula: ([760:800]/[690:720])^(-1)\n",
    "def red_edge(B07, B05):\n",
    "    #index = math.pow((B07 / B05), (-1.0))\n",
    "    index = (B07 / B05)**-1\n",
    "    return index\n",
    "\n",
    "# NDRE (Normalized difference red edge index) = NIR - RE/NIR + RE\n",
    "def nrde(B08, B05):\n",
    "    index = (B08 - B05)/(B08 + B05)\n",
    "    return index\n",
    "\n",
    "# Normalized Difference 819/1600 NDII (NDII)\n",
    "# General formula: (819nm-1600nm)/(819nm+1600nm)\n",
    "def ndii(B08, B11):\n",
    "    index = (B08 - B11) / (B08 + B11)\n",
    "    return index\n",
    "\n",
    "# MSI - Simple Ratio 1600/820 Moisture Stress Index (MSI)\n",
    "def msi(B11, B08):\n",
    "    index = B11 / B08\n",
    "    return index"
   ]
  },
  {
   "cell_type": "markdown",
   "metadata": {},
   "source": [
    "## Add Imagery and calculate vegetation indices"
   ]
  },
  {
   "cell_type": "code",
   "execution_count": 62,
   "metadata": {},
   "outputs": [],
   "source": [
    "# Open Bands with Rasterio and save to .tiff file \n",
    "img_dir = \"/Users/AuerPower/Metis/git/crop-classification/data/imagery/tile1/S2A_MSIL1C_20170620T082011_N0205_R121_T34JEP_20170620T084200.SAFE/GRANULE/L1C_T34JEP_A010414_20170620T084200/IMG_DATA/\"\n",
    "b1 = rio.open(img_dir + \"T34JEP_20170620T082011_B01.jp2\")\n",
    "b2 = rio.open(img_dir + \"T34JEP_20170620T082011_B02.jp2\")\n",
    "b3 = rio.open(img_dir + \"T34JEP_20170620T082011_B03.jp2\")\n",
    "b4 = rio.open(img_dir + \"T34JEP_20170620T082011_B04.jp2\")\n",
    "b5 = rio.open(img_dir + \"T34JEP_20170620T082011_B05.jp2\")\n",
    "b6 = rio.open(img_dir + \"T34JEP_20170620T082011_B06.jp2\")\n",
    "b7 = rio.open(img_dir + \"T34JEP_20170620T082011_B07.jp2\")\n",
    "b8 = rio.open(img_dir + \"T34JEP_20170620T082011_B08.jp2\")\n",
    "b8a = rio.open(img_dir + \"T34JEP_20170620T082011_B8A.jp2\")\n",
    "b9 = rio.open(img_dir + \"T34JEP_20170620T082011_B09.jp2\")\n",
    "b10 = rio.open(img_dir + \"T34JEP_20170620T082011_B10.jp2\")\n",
    "b11 = rio.open(img_dir + \"T34JEP_20170620T082011_B11.jp2\")\n",
    "b12 = rio.open(img_dir + \"T34JEP_20170620T082011_B12.jp2\")\n",
    "img_meta = b4.profile"
   ]
  },
  {
   "cell_type": "code",
   "execution_count": 63,
   "metadata": {},
   "outputs": [
    {
     "data": {
      "text/plain": [
       "{'driver': 'JP2OpenJPEG', 'dtype': 'uint16', 'nodata': None, 'width': 10980, 'height': 10980, 'count': 1, 'crs': CRS.from_epsg(32734), 'transform': Affine(10.0, 0.0, 499980.0,\n",
       "       0.0, -10.0, 6900040.0), 'blockxsize': 1024, 'blockysize': 1024, 'tiled': True}"
      ]
     },
     "execution_count": 63,
     "metadata": {},
     "output_type": "execute_result"
    }
   ],
   "source": [
    "img_meta"
   ]
  },
  {
   "cell_type": "code",
   "execution_count": 58,
   "metadata": {},
   "outputs": [],
   "source": [
    "## Calculate veg indices\n",
    "ndvi_arr = ndvi(b8.read(1), b4.read(1))\n",
    "gndvi_arr = gndvi(b8.read(1), b3.read(1))\n",
    "#mcari_arr = mcari(b5.read(1), b4.read(1), b3.read(1))\n",
    "re_arr = red_edge(b7.read(1), b5.read(1))\n",
    "nrde_arr = nrde(b8a.read(1), b5.read(1))\n",
    "ndii_arr = ndii(b8a.read(1), b11.read(1))\n",
    "msi_arr = msi(b11.read(1), b8a.read(1))"
   ]
  },
  {
   "cell_type": "code",
   "execution_count": 66,
   "metadata": {},
   "outputs": [
    {
     "data": {
      "text/plain": [
       "{'driver': 'Gtiff', 'dtype': 'float64', 'nodata': None, 'width': 10980, 'height': 10980, 'count': 6, 'crs': CRS.from_epsg(32734), 'transform': Affine(10.0, 0.0, 499980.0,\n",
       "       0.0, -10.0, 6900040.0), 'blockxsize': 1024, 'blockysize': 1024, 'tiled': True}"
      ]
     },
     "execution_count": 66,
     "metadata": {},
     "output_type": "execute_result"
    }
   ],
   "source": [
    "# change metadata profile to write Gtiff format, for 6 bands and float values instead of int\n",
    "img_meta['count'] = 6\n",
    "img_meta['dtype'] = 'float64'\n",
    "img_meta['driver'] = 'Gtiff'\n",
    "img_meta"
   ]
  },
  {
   "cell_type": "code",
   "execution_count": 68,
   "metadata": {},
   "outputs": [],
   "source": [
    "# Create stack and save file\n",
    "with rio.open('/Users/AuerPower/Metis/git/crop-classification/data/intermediate/veg_indices.tiff','w',\n",
    "              **img_meta) as veg_indices:\n",
    "    veg_indices.write(ndvi_arr,1) \n",
    "    veg_indices.write(gndvi_arr,2) \n",
    "    veg_indices.write(re_arr,3)\n",
    "    veg_indices.write(nrde_arr,4) \n",
    "    veg_indices.write(ndii_arr,5)\n",
    "    veg_indices.write(msi_arr,6)\n",
    "    veg_indices.close()"
   ]
  }
 ],
 "metadata": {
  "kernelspec": {
   "display_name": "Python [conda env:metis] *",
   "language": "python",
   "name": "conda-env-metis-py"
  },
  "language_info": {
   "codemirror_mode": {
    "name": "ipython",
    "version": 3
   },
   "file_extension": ".py",
   "mimetype": "text/x-python",
   "name": "python",
   "nbconvert_exporter": "python",
   "pygments_lexer": "ipython3",
   "version": "3.7.4"
  }
 },
 "nbformat": 4,
 "nbformat_minor": 2
}
