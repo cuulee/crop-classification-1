{
 "cells": [
  {
   "cell_type": "code",
   "execution_count": 8,
   "metadata": {
    "ExecuteTime": {
     "end_time": "2020-02-12T19:21:37.987659Z",
     "start_time": "2020-02-12T19:21:37.984009Z"
    }
   },
   "outputs": [],
   "source": [
    "import numpy as np\n",
    "import pandas as pd\n",
    "import geopandas as gpd\n",
    "\n",
    "from matplotlib.colors import ListedColormap\n",
    "import matplotlib.colors as colors\n",
    "import matplotlib.pyplot as plt\n",
    "import earthpy.plot as ep\n",
    "import plotly.figure_factory as ff\n",
    "import plotly.express as px\n",
    "import rasterio as rio\n",
    "from rasterio import features"
   ]
  },
  {
   "cell_type": "markdown",
   "metadata": {},
   "source": [
    "## Plot errors for test set"
   ]
  },
  {
   "cell_type": "code",
   "execution_count": 9,
   "metadata": {
    "ExecuteTime": {
     "end_time": "2020-02-12T19:21:44.356171Z",
     "start_time": "2020-02-12T19:21:44.032645Z"
    }
   },
   "outputs": [
    {
     "data": {
      "image/png": "[encoded data removed]",
      "text/plain": [
       "<Figure size 864x864 with 2 Axes>"
      ]
     },
     "metadata": {
      "needs_background": "light"
     },
     "output_type": "display_data"
    }
   ],
   "source": [
    "# Plot errors for test set\n",
    "\n",
    "error_path = '/Users/AuerPower/Metis/git/crop-classification/data/intermediate/raster_results/rasterized_error.tiff'\n",
    "\n",
    "with rio.open(error_path) as src:\n",
    "    error_ras = src.read(1, masked=True)\n",
    "\n",
    "#-1 is a false negative, 1 is a false positive, 0 is correctly predicted\n",
    "cmap = ListedColormap([\"springgreen\",\"magenta\", \"darkgreen\"])\n",
    "\n",
    "ep.plot_bands(error_ras,\n",
    "              cmap=cmap,\n",
    "              title=\"Error Map\\ndark green = correctly classified, magenta = false positive, lightgreen = false negative\",\n",
    "              scale=False)\n",
    "plt.show()"
   ]
  },
  {
   "cell_type": "markdown",
   "metadata": {},
   "source": [
    "## Aggregate results to the field polygons"
   ]
  },
  {
   "cell_type": "code",
   "execution_count": null,
   "metadata": {},
   "outputs": [],
   "source": []
  },
  {
   "cell_type": "code",
   "execution_count": 4,
   "metadata": {
    "ExecuteTime": {
     "end_time": "2020-02-11T23:06:12.362896Z",
     "start_time": "2020-02-11T23:05:56.613815Z"
    }
   },
   "outputs": [
    {
     "data": {
      "text/html": [
       "<div>\n",
       "<style scoped>\n",
       "    .dataframe tbody tr th:only-of-type {\n",
       "        vertical-align: middle;\n",
       "    }\n",
       "\n",
       "    .dataframe tbody tr th {\n",
       "        vertical-align: top;\n",
       "    }\n",
       "\n",
       "    .dataframe thead th {\n",
       "        text-align: right;\n",
       "    }\n",
       "</style>\n",
       "<table border=\"1\" class=\"dataframe\">\n",
       "  <thead>\n",
       "    <tr style=\"text-align: right;\">\n",
       "      <th></th>\n",
       "      <th>layer</th>\n",
       "      <th>gndvi_1</th>\n",
       "      <th>gndvi_2</th>\n",
       "      <th>msi_1</th>\n",
       "      <th>msi_2</th>\n",
       "      <th>ndii_1</th>\n",
       "      <th>ndii_2</th>\n",
       "      <th>ndvi_1</th>\n",
       "      <th>ndvi_2</th>\n",
       "      <th>nrde_1</th>\n",
       "      <th>nrde_2</th>\n",
       "      <th>re_1</th>\n",
       "      <th>re_2</th>\n",
       "      <th>geometry</th>\n",
       "    </tr>\n",
       "  </thead>\n",
       "  <tbody>\n",
       "    <tr>\n",
       "      <th>0</th>\n",
       "      <td>8.0</td>\n",
       "      <td>0.392078</td>\n",
       "      <td>0.122030</td>\n",
       "      <td>0.797411</td>\n",
       "      <td>0.235355</td>\n",
       "      <td>4.188391</td>\n",
       "      <td>6.555210</td>\n",
       "      <td>0.413863</td>\n",
       "      <td>0.166175</td>\n",
       "      <td>0.347838</td>\n",
       "      <td>0.120638</td>\n",
       "      <td>0.576879</td>\n",
       "      <td>0.161764</td>\n",
       "      <td>POINT (552665.000 6859815.000)</td>\n",
       "    </tr>\n",
       "    <tr>\n",
       "      <th>1</th>\n",
       "      <td>8.0</td>\n",
       "      <td>0.495499</td>\n",
       "      <td>0.099215</td>\n",
       "      <td>0.569944</td>\n",
       "      <td>0.121851</td>\n",
       "      <td>0.281596</td>\n",
       "      <td>0.098943</td>\n",
       "      <td>0.572162</td>\n",
       "      <td>0.116082</td>\n",
       "      <td>0.467261</td>\n",
       "      <td>0.081842</td>\n",
       "      <td>0.408737</td>\n",
       "      <td>0.087773</td>\n",
       "      <td>POINT (552425.000 6859805.000)</td>\n",
       "    </tr>\n",
       "    <tr>\n",
       "      <th>2</th>\n",
       "      <td>8.0</td>\n",
       "      <td>0.507068</td>\n",
       "      <td>0.078148</td>\n",
       "      <td>0.569944</td>\n",
       "      <td>0.121851</td>\n",
       "      <td>0.281596</td>\n",
       "      <td>0.098943</td>\n",
       "      <td>0.561398</td>\n",
       "      <td>0.111450</td>\n",
       "      <td>0.467261</td>\n",
       "      <td>0.081842</td>\n",
       "      <td>0.408737</td>\n",
       "      <td>0.087773</td>\n",
       "      <td>POINT (552435.000 6859805.000)</td>\n",
       "    </tr>\n",
       "    <tr>\n",
       "      <th>3</th>\n",
       "      <td>8.0</td>\n",
       "      <td>0.466874</td>\n",
       "      <td>0.103011</td>\n",
       "      <td>0.599304</td>\n",
       "      <td>0.134019</td>\n",
       "      <td>0.259422</td>\n",
       "      <td>0.106085</td>\n",
       "      <td>0.502597</td>\n",
       "      <td>0.147422</td>\n",
       "      <td>0.445028</td>\n",
       "      <td>0.076714</td>\n",
       "      <td>0.440616</td>\n",
       "      <td>0.088595</td>\n",
       "      <td>POINT (552445.000 6859805.000)</td>\n",
       "    </tr>\n",
       "    <tr>\n",
       "      <th>4</th>\n",
       "      <td>8.0</td>\n",
       "      <td>0.465960</td>\n",
       "      <td>0.116338</td>\n",
       "      <td>0.599304</td>\n",
       "      <td>0.134019</td>\n",
       "      <td>0.259422</td>\n",
       "      <td>0.106085</td>\n",
       "      <td>0.501352</td>\n",
       "      <td>0.162626</td>\n",
       "      <td>0.445028</td>\n",
       "      <td>0.076714</td>\n",
       "      <td>0.440616</td>\n",
       "      <td>0.088595</td>\n",
       "      <td>POINT (552455.000 6859805.000)</td>\n",
       "    </tr>\n",
       "  </tbody>\n",
       "</table>\n",
       "</div>"
      ],
      "text/plain": [
       "   layer   gndvi_1   gndvi_2     msi_1     msi_2    ndii_1    ndii_2  \\\n",
       "0    8.0  0.392078  0.122030  0.797411  0.235355  4.188391  6.555210   \n",
       "1    8.0  0.495499  0.099215  0.569944  0.121851  0.281596  0.098943   \n",
       "2    8.0  0.507068  0.078148  0.569944  0.121851  0.281596  0.098943   \n",
       "3    8.0  0.466874  0.103011  0.599304  0.134019  0.259422  0.106085   \n",
       "4    8.0  0.465960  0.116338  0.599304  0.134019  0.259422  0.106085   \n",
       "\n",
       "     ndvi_1    ndvi_2    nrde_1    nrde_2      re_1      re_2  \\\n",
       "0  0.413863  0.166175  0.347838  0.120638  0.576879  0.161764   \n",
       "1  0.572162  0.116082  0.467261  0.081842  0.408737  0.087773   \n",
       "2  0.561398  0.111450  0.467261  0.081842  0.408737  0.087773   \n",
       "3  0.502597  0.147422  0.445028  0.076714  0.440616  0.088595   \n",
       "4  0.501352  0.162626  0.445028  0.076714  0.440616  0.088595   \n",
       "\n",
       "                         geometry  \n",
       "0  POINT (552665.000 6859815.000)  \n",
       "1  POINT (552425.000 6859805.000)  \n",
       "2  POINT (552435.000 6859805.000)  \n",
       "3  POINT (552445.000 6859805.000)  \n",
       "4  POINT (552455.000 6859805.000)  "
      ]
     },
     "execution_count": 4,
     "metadata": {},
     "output_type": "execute_result"
    }
   ],
   "source": [
    "fields = gpd.read_file('/Users/AuerPower/Metis/git/crop-classification/data/intermediate/samples.shp')\n",
    "fields.head()"
   ]
  },
  {
   "cell_type": "code",
   "execution_count": null,
   "metadata": {},
   "outputs": [],
   "source": [
    "fig = px.scatter_mapbox(us_cities, lat=\"lat\", lon=\"lon\", hover_name=\"City\", hover_data=[\"State\", \"Population\"],\n",
    "                        color_discrete_sequence=[\"fuchsia\"], zoom=3, height=300)"
   ]
  },
  {
   "cell_type": "markdown",
   "metadata": {},
   "source": [
    "## Plot a veg index"
   ]
  },
  {
   "cell_type": "code",
   "execution_count": null,
   "metadata": {},
   "outputs": [],
   "source": [
    "## extract the mean and std of nrde (the most important according to RF model) and save as individual raster\n"
   ]
  },
  {
   "cell_type": "markdown",
   "metadata": {},
   "source": [
    "## Plot model on new geographic area"
   ]
  },
  {
   "cell_type": "code",
   "execution_count": null,
   "metadata": {},
   "outputs": [],
   "source": [
    "import pickle"
   ]
  },
  {
   "cell_type": "code",
   "execution_count": null,
   "metadata": {},
   "outputs": [],
   "source": [
    "with open(\"/Users/AuerPower/Metis/git/crop-classification/outputs/Models/best_model.pkl\", \"rb\") as f:\n",
    "    best_model = pickle.load(f)"
   ]
  },
  {
   "cell_type": "code",
   "execution_count": 1,
   "metadata": {
    "ExecuteTime": {
     "end_time": "2020-02-11T21:59:55.336858Z",
     "start_time": "2020-02-11T21:59:55.334508Z"
    }
   },
   "outputs": [],
   "source": [
    "## predict on new data"
   ]
  },
  {
   "cell_type": "code",
   "execution_count": null,
   "metadata": {},
   "outputs": [],
   "source": [
    "## Load new data"
   ]
  }
 ],
 "metadata": {
  "kernelspec": {
   "display_name": "Python [conda env:metis] *",
   "language": "python",
   "name": "conda-env-metis-py"
  },
  "language_info": {
   "codemirror_mode": {
    "name": "ipython",
    "version": 3
   },
   "file_extension": ".py",
   "mimetype": "text/x-python",
   "name": "python",
   "nbconvert_exporter": "python",
   "pygments_lexer": "ipython3",
   "version": "3.7.4"
  }
 },
 "nbformat": 4,
 "nbformat_minor": 2
}
