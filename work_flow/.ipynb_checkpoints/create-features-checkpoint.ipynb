{
 "cells": [
  {
   "cell_type": "code",
   "execution_count": 1,
   "metadata": {
    "ExecuteTime": {
     "end_time": "2020-02-08T23:37:02.294592Z",
     "start_time": "2020-02-08T23:37:00.683454Z"
    }
   },
   "outputs": [],
   "source": [
    "import os\n",
    "import numpy as np\n",
    "import geopandas as gpd\n",
    "import matplotlib as mpl\n",
    "import matplotlib.pyplot as plt\n",
    "import rasterio as rio\n",
    "import math"
   ]
  },
  {
   "cell_type": "markdown",
   "metadata": {},
   "source": [
    "## Functions for calculating vegetation indices from spectral bands\n",
    "[Source of formulas](https://www.sentinel-hub.com/develop/documentation/eo_products/Sentinel2EOproducts)"
   ]
  },
  {
   "cell_type": "code",
   "execution_count": 2,
   "metadata": {
    "ExecuteTime": {
     "end_time": "2020-02-08T23:37:06.491540Z",
     "start_time": "2020-02-08T23:37:06.484326Z"
    }
   },
   "outputs": [],
   "source": [
    "### Normalized Difference Vegetation Index  (NDVI)\n",
    "def ndvi(B08, B04):\n",
    "    index = (B08 - B04) / (B08 + B04)\n",
    "    return index\n",
    "\n",
    "# Green Normalized Difference Vegetation Index   (GNDVI)\n",
    "def gndvi(B08, B03):\n",
    "    index = (B08 - B03) / (B08 + B03)\n",
    "    return index\n",
    "\n",
    "# Modified Chlorophyll Absorption in Reflectance Index (MCARI)\n",
    "# General formula: ((700nm - 670nm) - 0.2 * (700nm - 550nm)) * (700nm /670nm)\n",
    "def mcari(B05, B04, B03):\n",
    "    index = ((B05 - B04) - 0.2 * (B05 - B03)) * (B05 / B04)\n",
    "    return index\n",
    "\n",
    "# Chlorophyll Red-Edge\n",
    "# General formula: ([760:800]/[690:720])^(-1)\n",
    "def red_edge(B07, B05):\n",
    "    #index = math.pow((B07 / B05), (-1.0))\n",
    "    index = (B07 / B05)**-1\n",
    "    return index\n",
    "\n",
    "# NDRE (Normalized difference red edge index) = NIR - RE/NIR + RE\n",
    "def nrde(B8A, B05):\n",
    "    index = (B8A - B05)/(B8A + B05)\n",
    "    return index\n",
    "\n",
    "# Normalized Difference 819/1600 NDII (NDII)\n",
    "# General formula: (819nm-1600nm)/(819nm+1600nm)\n",
    "def ndii(B8A, B11):\n",
    "    index = (B8A - B11) / (B8A + B11)\n",
    "    return index\n",
    "\n",
    "# MSI - Simple Ratio 1600/820 Moisture Stress Index (MSI)\n",
    "def msi(B11, B8A):\n",
    "    index = B11 / B8A\n",
    "    return index"
   ]
  },
  {
   "cell_type": "code",
   "execution_count": 3,
   "metadata": {
    "ExecuteTime": {
     "end_time": "2020-02-08T23:37:10.051654Z",
     "start_time": "2020-02-08T23:37:10.048984Z"
    }
   },
   "outputs": [],
   "source": [
    "indices = [ndvi, gndvi, mcari, red_edge, nrde, ndii, msi]"
   ]
  },
  {
   "cell_type": "code",
   "execution_count": null,
   "metadata": {},
   "outputs": [],
   "source": [
    "## Calculate veg indices\n",
    "# ndvi_arr = ndvi(b8.read(1), b4.read(1))\n",
    "# gndvi_arr = gndvi(b8.read(1), b3.read(1))\n",
    "# #mcari_arr = mcari(b5.read(1), b4.read(1), b3.read(1)) \n",
    "# re_arr = red_edge(b7.read(1), b5.read(1))\n",
    "# nrde_arr = nrde(b8a.read(1), b5.read(1))\n",
    "# ndii_arr = ndii(b8a.read(1), b11.read(1))\n",
    "# msi_arr = msi(b11.read(1), b8a.read(1))"
   ]
  },
  {
   "cell_type": "markdown",
   "metadata": {},
   "source": [
    "## Image processing house keeping"
   ]
  },
  {
   "cell_type": "code",
   "execution_count": 4,
   "metadata": {
    "ExecuteTime": {
     "end_time": "2020-02-08T23:37:17.933890Z",
     "start_time": "2020-02-08T23:37:17.903368Z"
    }
   },
   "outputs": [],
   "source": [
    "# Open a band with Rasterio and get metadata \n",
    "img_dir = \"/Users/AuerPower/Metis/git/crop-classification/data/imagery/tile1/S2A_MSIL1C_20170620T082011_N0205_R121_T34JEP_20170620T084200.SAFE/GRANULE/L1C_T34JEP_A010414_20170620T084200/IMG_DATA/\"\n",
    "b4 = rio.open(img_dir + \"T34JEP_20170620T082011_B04.jp2\")\n",
    "img_meta = b4.profile\n",
    "img_meta"
   ]
  },
  {
   "cell_type": "code",
   "execution_count": 6,
   "metadata": {
    "ExecuteTime": {
     "end_time": "2020-02-08T23:37:22.587947Z",
     "start_time": "2020-02-08T23:37:22.583558Z"
    }
   },
   "outputs": [
    {
     "data": {
      "text/plain": [
       "{'driver': 'Gtiff', 'dtype': 'float64', 'nodata': None, 'width': 10980, 'height': 10980, 'count': 2, 'crs': CRS.from_epsg(32734), 'transform': Affine(10.0, 0.0, 499980.0,\n",
       "       0.0, -10.0, 6900040.0), 'blockxsize': 1024, 'blockysize': 1024, 'tiled': True}"
      ]
     },
     "execution_count": 6,
     "metadata": {},
     "output_type": "execute_result"
    }
   ],
   "source": [
    "# change metadata profile to write Gtiff format, for 2 bands and float values instead of int\n",
    "img_meta['count'] = 2\n",
    "img_meta['dtype'] = 'float64'\n",
    "img_meta['driver'] = 'Gtiff'\n",
    "img_meta"
   ]
  },
  {
   "cell_type": "markdown",
   "metadata": {},
   "source": [
    "## Loop through imagery tiles and calculate veg indices\n",
    "- For each veg index calculate the mean and standard deviation across time and save as a multiband raster"
   ]
  },
  {
   "cell_type": "code",
   "execution_count": 7,
   "metadata": {
    "ExecuteTime": {
     "end_time": "2020-02-08T23:37:36.616448Z",
     "start_time": "2020-02-08T23:37:36.594057Z"
    }
   },
   "outputs": [],
   "source": [
    "#import earthpy.spatial as es\n",
    "import re\n",
    "import fnmatch\n",
    "from osgeo import gdal"
   ]
  },
  {
   "cell_type": "code",
   "execution_count": 8,
   "metadata": {
    "ExecuteTime": {
     "end_time": "2020-02-08T23:37:37.637547Z",
     "start_time": "2020-02-08T23:37:37.632178Z"
    }
   },
   "outputs": [
    {
     "data": {
      "text/plain": [
       "'T34JEP_20170312T082001_B8A.jp2'"
      ]
     },
     "execution_count": 8,
     "metadata": {},
     "output_type": "execute_result"
    }
   ],
   "source": [
    "# Get filenames for all months\n",
    "img_dir = '/Users/AuerPower/Metis/git/crop-classification/data/imagery/sentinel2/'\n",
    "output_dir = '/Users/AuerPower/Metis/git/crop-classification/data/intermediate/seasonal_veg/'\n",
    "\n",
    "paths = os.listdir(img_dir)\n",
    "paths[1]"
   ]
  },
  {
   "cell_type": "code",
   "execution_count": 9,
   "metadata": {
    "ExecuteTime": {
     "end_time": "2020-02-08T23:37:38.761175Z",
     "start_time": "2020-02-08T23:37:38.757127Z"
    }
   },
   "outputs": [],
   "source": [
    "# Get list of months in filenames\n",
    "b8_paths = [img_dir + file for file in paths if fnmatch.fnmatch(file, '*B08.jp2')]\n",
    "months = [os.path.basename(b8).split('_')[1] for b8 in b8_paths]"
   ]
  },
  {
   "cell_type": "code",
   "execution_count": 10,
   "metadata": {
    "ExecuteTime": {
     "end_time": "2020-02-08T23:49:00.327211Z",
     "start_time": "2020-02-08T23:37:39.673448Z"
    }
   },
   "outputs": [],
   "source": [
    "## NDVI\n",
    "layers = []\n",
    "for m in months:\n",
    "    B08 = rio.open(img_dir + 'T34JEP_' + m + '_B08.jp2').read(1)\n",
    "    B04 = rio.open(img_dir + 'T34JEP_' + m + '_B04.jp2').read(1)\n",
    "    veg_index = ndvi(B08, B04)\n",
    "    layers.append(veg_index)\n",
    "    \n",
    "raster_stack = np.dstack(layers)\n",
    "std_raster = np.std(raster_stack, axis=2)\n",
    "mean_raster = np.mean(raster_stack, axis=2)\n",
    "\n",
    "with rio.open(output_dir + 'ndvi.tiff','w', **img_meta) as veg_indices:\n",
    "    veg_indices.write(mean_raster,1)\n",
    "    veg_indices.write(std_raster,2)"
   ]
  },
  {
   "cell_type": "code",
   "execution_count": 11,
   "metadata": {
    "ExecuteTime": {
     "end_time": "2020-02-09T00:08:00.816249Z",
     "start_time": "2020-02-08T23:56:08.866720Z"
    }
   },
   "outputs": [],
   "source": [
    "## GNDVI\n",
    "layers = []\n",
    "for m in months:\n",
    "    B08 = rio.open(img_dir + 'T34JEP_' + m + '_B08.jp2').read(1)\n",
    "    B03 = rio.open(img_dir + 'T34JEP_' + m + '_B03.jp2').read(1)\n",
    "    veg_index = gndvi(B08, B03)\n",
    "    layers.append(veg_index)\n",
    "\n",
    "raster_stack = np.dstack(layers)\n",
    "std_raster = np.std(raster_stack, axis=2)\n",
    "mean_raster = np.mean(raster_stack, axis=2)\n",
    "\n",
    "with rio.open(output_dir + 'gndvi.tiff','w', **img_meta) as veg_indices:\n",
    "    veg_indices.write(mean_raster,1)\n",
    "    veg_indices.write(std_raster,2)"
   ]
  },
  {
   "cell_type": "code",
   "execution_count": 12,
   "metadata": {
    "ExecuteTime": {
     "end_time": "2020-02-09T00:08:38.697206Z",
     "start_time": "2020-02-09T00:08:00.848572Z"
    }
   },
   "outputs": [],
   "source": [
    "## Red edge\n",
    "layers = []\n",
    "for m in months:\n",
    "    B07 = rio.open(img_dir + 'T34JEP_' + m + '_B07.jp2').read(1)\n",
    "    B05 = rio.open(img_dir + 'T34JEP_' + m + '_B05.jp2').read(1)\n",
    "    veg_index = red_edge(B07, B05)\n",
    "    layers.append(veg_index)\n",
    "\n",
    "raster_stack = np.dstack(layers)\n",
    "std_raster = np.std(raster_stack, axis=2)\n",
    "mean_raster = np.mean(raster_stack, axis=2)\n",
    "\n",
    "with rio.open(output_dir + 're.tiff','w', **img_meta) as veg_indices:\n",
    "    veg_indices.write(mean_raster,1)\n",
    "    veg_indices.write(std_raster,2)"
   ]
  },
  {
   "cell_type": "code",
   "execution_count": 13,
   "metadata": {
    "ExecuteTime": {
     "end_time": "2020-02-09T00:09:16.198124Z",
     "start_time": "2020-02-09T00:08:38.743279Z"
    }
   },
   "outputs": [],
   "source": [
    "## NRDE\n",
    "layers = []\n",
    "for m in months:\n",
    "    B8A = rio.open(img_dir + 'T34JEP_' + m + '_B8A.jp2').read(1)\n",
    "    B05 = rio.open(img_dir + 'T34JEP_' + m + '_B05.jp2').read(1)\n",
    "    veg_index = nrde(B8A, B05)\n",
    "    layers.append(veg_index)\n",
    "\n",
    "raster_stack = np.dstack(layers)\n",
    "std_raster = np.std(raster_stack, axis=2)\n",
    "mean_raster = np.mean(raster_stack, axis=2)\n",
    "\n",
    "with rio.open(output_dir + 'nrde.tiff','w', **img_meta) as veg_indices:\n",
    "    veg_indices.write(mean_raster,1)\n",
    "    veg_indices.write(std_raster,2)"
   ]
  },
  {
   "cell_type": "code",
   "execution_count": 14,
   "metadata": {
    "ExecuteTime": {
     "end_time": "2020-02-09T00:09:54.631621Z",
     "start_time": "2020-02-09T00:09:16.202803Z"
    }
   },
   "outputs": [],
   "source": [
    "## ndii\n",
    "layers = []\n",
    "for m in months:\n",
    "    B8A = rio.open(img_dir + 'T34JEP_' + m + '_B8A.jp2').read(1)\n",
    "    B11 = rio.open(img_dir + 'T34JEP_' + m + '_B11.jp2').read(1)\n",
    "    veg_index = ndii(B8A, B11)\n",
    "    layers.append(veg_index)\n",
    "\n",
    "raster_stack = np.dstack(layers)\n",
    "std_raster = np.std(raster_stack, axis=2)\n",
    "mean_raster = np.mean(raster_stack, axis=2)\n",
    "\n",
    "with rio.open(output_dir + 'ndii.tiff','w', **img_meta) as veg_indices:\n",
    "    veg_indices.write(mean_raster,1)\n",
    "    veg_indices.write(std_raster,2)"
   ]
  },
  {
   "cell_type": "code",
   "execution_count": 15,
   "metadata": {
    "ExecuteTime": {
     "end_time": "2020-02-09T00:10:27.636005Z",
     "start_time": "2020-02-09T00:09:54.636103Z"
    }
   },
   "outputs": [],
   "source": [
    "## msi\n",
    "layers = []\n",
    "for m in months:\n",
    "    B8A = rio.open(img_dir + 'T34JEP_' + m + '_B8A.jp2').read(1)\n",
    "    B11 = rio.open(img_dir + 'T34JEP_' + m + '_B11.jp2').read(1)\n",
    "    veg_index = msi(B11, B8A)\n",
    "    layers.append(veg_index)\n",
    "\n",
    "raster_stack = np.dstack(layers)\n",
    "std_raster = np.std(raster_stack, axis=2)\n",
    "mean_raster = np.mean(raster_stack, axis=2)\n",
    "\n",
    "with rio.open(output_dir + 'msi.tiff','w', **img_meta) as veg_indices:\n",
    "    veg_indices.write(mean_raster,1)\n",
    "    veg_indices.write(std_raster,2)"
   ]
  },
  {
   "cell_type": "code",
   "execution_count": 17,
   "metadata": {
    "ExecuteTime": {
     "end_time": "2020-02-09T00:10:37.674909Z",
     "start_time": "2020-02-09T00:10:27.650322Z"
    }
   },
   "outputs": [
    {
     "data": {
      "image/png": "[encoded data removed]",
      "text/plain": [
       "<Figure size 432x288 with 1 Axes>"
      ]
     },
     "metadata": {
      "needs_background": "light"
     },
     "output_type": "display_data"
    }
   ],
   "source": [
    "## Plot NDVI\n",
    "raster = rio.open('/Users/AuerPower/Metis/git/crop-classification/data/intermediate/seasonal_veg/ndvi.tiff')\n",
    "mean_ndvi = raster.read(1)\n",
    "plt.imshow(mean_ndvi)\n",
    "plt.axis(\"off\");"
   ]
  }
 ],
 "metadata": {
  "kernelspec": {
   "display_name": "Python [conda env:metis] *",
   "language": "python",
   "name": "conda-env-metis-py"
  },
  "language_info": {
   "codemirror_mode": {
    "name": "ipython",
    "version": 3
   },
   "file_extension": ".py",
   "mimetype": "text/x-python",
   "name": "python",
   "nbconvert_exporter": "python",
   "pygments_lexer": "ipython3",
   "version": "3.7.4"
  }
 },
 "nbformat": 4,
 "nbformat_minor": 2
}
