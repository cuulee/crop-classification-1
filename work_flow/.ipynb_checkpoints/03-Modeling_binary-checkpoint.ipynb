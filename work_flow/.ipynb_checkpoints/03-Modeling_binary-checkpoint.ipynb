{
 "cells": [
  {
   "cell_type": "markdown",
   "metadata": {
    "ExecuteTime": {
     "end_time": "2020-02-09T22:10:56.977377Z",
     "start_time": "2020-02-09T22:10:56.975563Z"
    }
   },
   "source": [
    "## Vinyard vs. not vinyard\n",
    "This is a binary classification model that predicts whether a pixel in an image belongs to a vinyard or not. The samples and imagery data have been cleaned for modeling in earlier pre processing steps. This involved:\n",
    "1. reducing the spatial extent (which reduced the number of sample pixels) to save on processing time \n",
    "2. using multi-spectral imagery to calculate vegetation indices which created more relevant features while also reducing complexity.\n",
    "3. Calculating the mean and std of each vegetation index across 1 year of satellite imagery which also reduced feature complexity."
   ]
  },
  {
   "cell_type": "code",
   "execution_count": 1,
   "metadata": {
    "ExecuteTime": {
     "end_time": "2020-02-11T01:31:15.779031Z",
     "start_time": "2020-02-11T01:31:14.091729Z"
    }
   },
   "outputs": [],
   "source": [
    "import numpy as np\n",
    "import pandas as pd\n",
    "import geopandas as gpd\n",
    "import matplotlib as mpl\n",
    "import matplotlib.pyplot as plt\n",
    "import seaborn as sns"
   ]
  },
  {
   "cell_type": "code",
   "execution_count": 90,
   "metadata": {
    "ExecuteTime": {
     "end_time": "2020-02-12T20:07:41.309659Z",
     "start_time": "2020-02-12T20:07:38.454966Z"
    }
   },
   "outputs": [],
   "source": [
    "samples = gpd.read_file('/Users/AuerPower/Metis/git/crop-classification/data/intermediate/samples_subset.shp')\n",
    "samples.rename(columns={'layer': 'crop',\n",
    "                        'gndvi_1': 'gndvi_mean', 'gndvi_2': 'gndvi_std', \n",
    "                        'msi_1': 'msi_mean', 'msi_2': 'msi_std', \n",
    "                        'ndii_1': 'ndii_mean', 'ndii_2': 'ndii_std',\n",
    "                        'ndvi_1': 'ndvi_mean', 'ndvi_2': 'ndvi_std', \n",
    "                        'nrde_1': 'nrde_mean', 'nrde_2': 'nrde_std',\n",
    "                        're_1': 're_mean', 're_2': 're_std'\n",
    "                         }, inplace=True)"
   ]
  },
  {
   "cell_type": "code",
   "execution_count": 91,
   "metadata": {
    "ExecuteTime": {
     "end_time": "2020-02-12T20:07:43.297175Z",
     "start_time": "2020-02-12T20:07:41.312132Z"
    }
   },
   "outputs": [
    {
     "data": {
      "text/html": [
       "<div>\n",
       "<style scoped>\n",
       "    .dataframe tbody tr th:only-of-type {\n",
       "        vertical-align: middle;\n",
       "    }\n",
       "\n",
       "    .dataframe tbody tr th {\n",
       "        vertical-align: top;\n",
       "    }\n",
       "\n",
       "    .dataframe thead th {\n",
       "        text-align: right;\n",
       "    }\n",
       "</style>\n",
       "<table border=\"1\" class=\"dataframe\">\n",
       "  <thead>\n",
       "    <tr style=\"text-align: right;\">\n",
       "      <th></th>\n",
       "      <th>field</th>\n",
       "      <th>geometry</th>\n",
       "    </tr>\n",
       "  </thead>\n",
       "  <tbody>\n",
       "    <tr>\n",
       "      <th>0</th>\n",
       "      <td>2690.0</td>\n",
       "      <td>POINT (575125.000 6833885.000)</td>\n",
       "    </tr>\n",
       "    <tr>\n",
       "      <th>1</th>\n",
       "      <td>2690.0</td>\n",
       "      <td>POINT (575135.000 6833885.000)</td>\n",
       "    </tr>\n",
       "    <tr>\n",
       "      <th>2</th>\n",
       "      <td>2691.0</td>\n",
       "      <td>POINT (575155.000 6833885.000)</td>\n",
       "    </tr>\n",
       "    <tr>\n",
       "      <th>3</th>\n",
       "      <td>2691.0</td>\n",
       "      <td>POINT (575165.000 6833885.000)</td>\n",
       "    </tr>\n",
       "    <tr>\n",
       "      <th>4</th>\n",
       "      <td>2691.0</td>\n",
       "      <td>POINT (575175.000 6833885.000)</td>\n",
       "    </tr>\n",
       "  </tbody>\n",
       "</table>\n",
       "</div>"
      ],
      "text/plain": [
       "    field                        geometry\n",
       "0  2690.0  POINT (575125.000 6833885.000)\n",
       "1  2690.0  POINT (575135.000 6833885.000)\n",
       "2  2691.0  POINT (575155.000 6833885.000)\n",
       "3  2691.0  POINT (575165.000 6833885.000)\n",
       "4  2691.0  POINT (575175.000 6833885.000)"
      ]
     },
     "execution_count": 91,
     "metadata": {},
     "output_type": "execute_result"
    }
   ],
   "source": [
    "# Load Field ID data\n",
    "regions = gpd.read_file('/Users/AuerPower/Metis/git/crop-classification/data/intermediate/fieldID_subset.shp')\n",
    "regions.rename(columns={'layer': 'field'}, inplace=True)\n",
    "regions.head()"
   ]
  },
  {
   "cell_type": "code",
   "execution_count": 92,
   "metadata": {
    "ExecuteTime": {
     "end_time": "2020-02-12T20:07:46.833141Z",
     "start_time": "2020-02-12T20:07:44.602292Z"
    }
   },
   "outputs": [
    {
     "data": {
      "text/html": [
       "<div>\n",
       "<style scoped>\n",
       "    .dataframe tbody tr th:only-of-type {\n",
       "        vertical-align: middle;\n",
       "    }\n",
       "\n",
       "    .dataframe tbody tr th {\n",
       "        vertical-align: top;\n",
       "    }\n",
       "\n",
       "    .dataframe thead th {\n",
       "        text-align: right;\n",
       "    }\n",
       "</style>\n",
       "<table border=\"1\" class=\"dataframe\">\n",
       "  <thead>\n",
       "    <tr style=\"text-align: right;\">\n",
       "      <th></th>\n",
       "      <th>crop</th>\n",
       "      <th>gndvi_mean</th>\n",
       "      <th>gndvi_std</th>\n",
       "      <th>msi_mean</th>\n",
       "      <th>msi_std</th>\n",
       "      <th>ndii_mean</th>\n",
       "      <th>ndii_std</th>\n",
       "      <th>ndvi_mean</th>\n",
       "      <th>ndvi_std</th>\n",
       "      <th>nrde_mean</th>\n",
       "      <th>nrde_std</th>\n",
       "      <th>re_mean</th>\n",
       "      <th>re_std</th>\n",
       "      <th>geometry</th>\n",
       "      <th>field</th>\n",
       "    </tr>\n",
       "  </thead>\n",
       "  <tbody>\n",
       "    <tr>\n",
       "      <th>0</th>\n",
       "      <td>8.0</td>\n",
       "      <td>0.384528</td>\n",
       "      <td>0.115246</td>\n",
       "      <td>0.858284</td>\n",
       "      <td>0.143714</td>\n",
       "      <td>2.621973</td>\n",
       "      <td>5.340990</td>\n",
       "      <td>0.358772</td>\n",
       "      <td>0.182492</td>\n",
       "      <td>0.333323</td>\n",
       "      <td>0.090502</td>\n",
       "      <td>0.562390</td>\n",
       "      <td>0.109928</td>\n",
       "      <td>POINT (575125.000 6833885.000)</td>\n",
       "      <td>2690</td>\n",
       "    </tr>\n",
       "    <tr>\n",
       "      <th>1</th>\n",
       "      <td>8.0</td>\n",
       "      <td>0.403404</td>\n",
       "      <td>0.083709</td>\n",
       "      <td>0.858284</td>\n",
       "      <td>0.143714</td>\n",
       "      <td>2.621973</td>\n",
       "      <td>5.340990</td>\n",
       "      <td>0.387312</td>\n",
       "      <td>0.124748</td>\n",
       "      <td>0.333323</td>\n",
       "      <td>0.090502</td>\n",
       "      <td>0.562390</td>\n",
       "      <td>0.109928</td>\n",
       "      <td>POINT (575135.000 6833885.000)</td>\n",
       "      <td>2690</td>\n",
       "    </tr>\n",
       "    <tr>\n",
       "      <th>2</th>\n",
       "      <td>4.0</td>\n",
       "      <td>0.512671</td>\n",
       "      <td>0.080293</td>\n",
       "      <td>0.686751</td>\n",
       "      <td>0.155244</td>\n",
       "      <td>0.195134</td>\n",
       "      <td>0.102591</td>\n",
       "      <td>0.550536</td>\n",
       "      <td>0.139805</td>\n",
       "      <td>0.444923</td>\n",
       "      <td>0.085954</td>\n",
       "      <td>0.427002</td>\n",
       "      <td>0.103163</td>\n",
       "      <td>POINT (575155.000 6833885.000)</td>\n",
       "      <td>2691</td>\n",
       "    </tr>\n",
       "    <tr>\n",
       "      <th>3</th>\n",
       "      <td>4.0</td>\n",
       "      <td>0.530932</td>\n",
       "      <td>0.085214</td>\n",
       "      <td>0.627883</td>\n",
       "      <td>0.225130</td>\n",
       "      <td>1.179418</td>\n",
       "      <td>2.848550</td>\n",
       "      <td>0.580122</td>\n",
       "      <td>0.143676</td>\n",
       "      <td>0.493996</td>\n",
       "      <td>0.114301</td>\n",
       "      <td>0.378424</td>\n",
       "      <td>0.127256</td>\n",
       "      <td>POINT (575165.000 6833885.000)</td>\n",
       "      <td>2691</td>\n",
       "    </tr>\n",
       "    <tr>\n",
       "      <th>4</th>\n",
       "      <td>4.0</td>\n",
       "      <td>0.542835</td>\n",
       "      <td>0.084822</td>\n",
       "      <td>0.627883</td>\n",
       "      <td>0.225130</td>\n",
       "      <td>1.179418</td>\n",
       "      <td>2.848550</td>\n",
       "      <td>0.592570</td>\n",
       "      <td>0.142655</td>\n",
       "      <td>0.493996</td>\n",
       "      <td>0.114301</td>\n",
       "      <td>0.378424</td>\n",
       "      <td>0.127256</td>\n",
       "      <td>POINT (575175.000 6833885.000)</td>\n",
       "      <td>2691</td>\n",
       "    </tr>\n",
       "  </tbody>\n",
       "</table>\n",
       "</div>"
      ],
      "text/plain": [
       "   crop  gndvi_mean  gndvi_std  msi_mean   msi_std  ndii_mean  ndii_std  \\\n",
       "0   8.0    0.384528   0.115246  0.858284  0.143714   2.621973  5.340990   \n",
       "1   8.0    0.403404   0.083709  0.858284  0.143714   2.621973  5.340990   \n",
       "2   4.0    0.512671   0.080293  0.686751  0.155244   0.195134  0.102591   \n",
       "3   4.0    0.530932   0.085214  0.627883  0.225130   1.179418  2.848550   \n",
       "4   4.0    0.542835   0.084822  0.627883  0.225130   1.179418  2.848550   \n",
       "\n",
       "   ndvi_mean  ndvi_std  nrde_mean  nrde_std   re_mean    re_std  \\\n",
       "0   0.358772  0.182492   0.333323  0.090502  0.562390  0.109928   \n",
       "1   0.387312  0.124748   0.333323  0.090502  0.562390  0.109928   \n",
       "2   0.550536  0.139805   0.444923  0.085954  0.427002  0.103163   \n",
       "3   0.580122  0.143676   0.493996  0.114301  0.378424  0.127256   \n",
       "4   0.592570  0.142655   0.493996  0.114301  0.378424  0.127256   \n",
       "\n",
       "                         geometry  field  \n",
       "0  POINT (575125.000 6833885.000)   2690  \n",
       "1  POINT (575135.000 6833885.000)   2690  \n",
       "2  POINT (575155.000 6833885.000)   2691  \n",
       "3  POINT (575165.000 6833885.000)   2691  \n",
       "4  POINT (575175.000 6833885.000)   2691  "
      ]
     },
     "execution_count": 92,
     "metadata": {},
     "output_type": "execute_result"
    }
   ],
   "source": [
    "samples = samples.merge(regions, how='left')\n",
    "samples['field'] = [int(x) for x in samples['field']]\n",
    "samples.head()"
   ]
  },
  {
   "cell_type": "code",
   "execution_count": 66,
   "metadata": {
    "ExecuteTime": {
     "end_time": "2020-02-12T18:42:21.803712Z",
     "start_time": "2020-02-12T18:42:21.747128Z"
    }
   },
   "outputs": [],
   "source": [
    "# Remove intercrop class\n",
    "#samples = samples[samples.crop != 9]"
   ]
  },
  {
   "cell_type": "code",
   "execution_count": 93,
   "metadata": {
    "ExecuteTime": {
     "end_time": "2020-02-12T20:07:50.116739Z",
     "start_time": "2020-02-12T20:07:50.108414Z"
    }
   },
   "outputs": [
    {
     "data": {
      "text/plain": [
       "array([1., 0.])"
      ]
     },
     "execution_count": 93,
     "metadata": {},
     "output_type": "execute_result"
    }
   ],
   "source": [
    "# Assign binary classifier for vinyard/not vinyard\n",
    "samples['vinyard'] = samples['crop'].replace([1, 2, 3, 4, 5, 6, 7, 9], 0)\n",
    "samples['vinyard'] = samples['vinyard'].replace(8, 1)\n",
    "samples['vinyard'].unique()"
   ]
  },
  {
   "cell_type": "code",
   "execution_count": 94,
   "metadata": {
    "ExecuteTime": {
     "end_time": "2020-02-12T20:07:51.737726Z",
     "start_time": "2020-02-12T20:07:51.734380Z"
    }
   },
   "outputs": [
    {
     "data": {
      "text/plain": [
       "(84564, 16)"
      ]
     },
     "execution_count": 94,
     "metadata": {},
     "output_type": "execute_result"
    }
   ],
   "source": [
    "# Reduce number of rows by 70% to decrease runtime\n",
    "#samples = samples.sample(frac = 0.2)\n",
    "samples.shape"
   ]
  },
  {
   "cell_type": "code",
   "execution_count": 69,
   "metadata": {
    "ExecuteTime": {
     "end_time": "2020-02-12T18:42:39.941377Z",
     "start_time": "2020-02-12T18:42:39.921383Z"
    }
   },
   "outputs": [
    {
     "data": {
      "text/html": [
       "<div>\n",
       "<style scoped>\n",
       "    .dataframe tbody tr th:only-of-type {\n",
       "        vertical-align: middle;\n",
       "    }\n",
       "\n",
       "    .dataframe tbody tr th {\n",
       "        vertical-align: top;\n",
       "    }\n",
       "\n",
       "    .dataframe thead th {\n",
       "        text-align: right;\n",
       "    }\n",
       "</style>\n",
       "<table border=\"1\" class=\"dataframe\">\n",
       "  <thead>\n",
       "    <tr style=\"text-align: right;\">\n",
       "      <th></th>\n",
       "      <th>crop</th>\n",
       "      <th>gndvi_mean</th>\n",
       "      <th>gndvi_std</th>\n",
       "      <th>msi_mean</th>\n",
       "      <th>msi_std</th>\n",
       "      <th>ndii_mean</th>\n",
       "      <th>ndii_std</th>\n",
       "      <th>ndvi_mean</th>\n",
       "      <th>ndvi_std</th>\n",
       "      <th>nrde_mean</th>\n",
       "      <th>nrde_std</th>\n",
       "      <th>re_mean</th>\n",
       "      <th>re_std</th>\n",
       "      <th>geometry</th>\n",
       "      <th>field</th>\n",
       "      <th>vinyard</th>\n",
       "    </tr>\n",
       "  </thead>\n",
       "  <tbody>\n",
       "    <tr>\n",
       "      <th>0</th>\n",
       "      <td>8.0</td>\n",
       "      <td>0.384528</td>\n",
       "      <td>0.115246</td>\n",
       "      <td>0.858284</td>\n",
       "      <td>0.143714</td>\n",
       "      <td>2.621973</td>\n",
       "      <td>5.340990</td>\n",
       "      <td>0.358772</td>\n",
       "      <td>0.182492</td>\n",
       "      <td>0.333323</td>\n",
       "      <td>0.090502</td>\n",
       "      <td>0.562390</td>\n",
       "      <td>0.109928</td>\n",
       "      <td>POINT (575125.000 6833885.000)</td>\n",
       "      <td>2690</td>\n",
       "      <td>1.0</td>\n",
       "    </tr>\n",
       "    <tr>\n",
       "      <th>1</th>\n",
       "      <td>8.0</td>\n",
       "      <td>0.403404</td>\n",
       "      <td>0.083709</td>\n",
       "      <td>0.858284</td>\n",
       "      <td>0.143714</td>\n",
       "      <td>2.621973</td>\n",
       "      <td>5.340990</td>\n",
       "      <td>0.387312</td>\n",
       "      <td>0.124748</td>\n",
       "      <td>0.333323</td>\n",
       "      <td>0.090502</td>\n",
       "      <td>0.562390</td>\n",
       "      <td>0.109928</td>\n",
       "      <td>POINT (575135.000 6833885.000)</td>\n",
       "      <td>2690</td>\n",
       "      <td>1.0</td>\n",
       "    </tr>\n",
       "    <tr>\n",
       "      <th>2</th>\n",
       "      <td>4.0</td>\n",
       "      <td>0.512671</td>\n",
       "      <td>0.080293</td>\n",
       "      <td>0.686751</td>\n",
       "      <td>0.155244</td>\n",
       "      <td>0.195134</td>\n",
       "      <td>0.102591</td>\n",
       "      <td>0.550536</td>\n",
       "      <td>0.139805</td>\n",
       "      <td>0.444923</td>\n",
       "      <td>0.085954</td>\n",
       "      <td>0.427002</td>\n",
       "      <td>0.103163</td>\n",
       "      <td>POINT (575155.000 6833885.000)</td>\n",
       "      <td>2691</td>\n",
       "      <td>0.0</td>\n",
       "    </tr>\n",
       "    <tr>\n",
       "      <th>3</th>\n",
       "      <td>4.0</td>\n",
       "      <td>0.530932</td>\n",
       "      <td>0.085214</td>\n",
       "      <td>0.627883</td>\n",
       "      <td>0.225130</td>\n",
       "      <td>1.179418</td>\n",
       "      <td>2.848550</td>\n",
       "      <td>0.580122</td>\n",
       "      <td>0.143676</td>\n",
       "      <td>0.493996</td>\n",
       "      <td>0.114301</td>\n",
       "      <td>0.378424</td>\n",
       "      <td>0.127256</td>\n",
       "      <td>POINT (575165.000 6833885.000)</td>\n",
       "      <td>2691</td>\n",
       "      <td>0.0</td>\n",
       "    </tr>\n",
       "    <tr>\n",
       "      <th>4</th>\n",
       "      <td>4.0</td>\n",
       "      <td>0.542835</td>\n",
       "      <td>0.084822</td>\n",
       "      <td>0.627883</td>\n",
       "      <td>0.225130</td>\n",
       "      <td>1.179418</td>\n",
       "      <td>2.848550</td>\n",
       "      <td>0.592570</td>\n",
       "      <td>0.142655</td>\n",
       "      <td>0.493996</td>\n",
       "      <td>0.114301</td>\n",
       "      <td>0.378424</td>\n",
       "      <td>0.127256</td>\n",
       "      <td>POINT (575175.000 6833885.000)</td>\n",
       "      <td>2691</td>\n",
       "      <td>0.0</td>\n",
       "    </tr>\n",
       "  </tbody>\n",
       "</table>\n",
       "</div>"
      ],
      "text/plain": [
       "   crop  gndvi_mean  gndvi_std  msi_mean   msi_std  ndii_mean  ndii_std  \\\n",
       "0   8.0    0.384528   0.115246  0.858284  0.143714   2.621973  5.340990   \n",
       "1   8.0    0.403404   0.083709  0.858284  0.143714   2.621973  5.340990   \n",
       "2   4.0    0.512671   0.080293  0.686751  0.155244   0.195134  0.102591   \n",
       "3   4.0    0.530932   0.085214  0.627883  0.225130   1.179418  2.848550   \n",
       "4   4.0    0.542835   0.084822  0.627883  0.225130   1.179418  2.848550   \n",
       "\n",
       "   ndvi_mean  ndvi_std  nrde_mean  nrde_std   re_mean    re_std  \\\n",
       "0   0.358772  0.182492   0.333323  0.090502  0.562390  0.109928   \n",
       "1   0.387312  0.124748   0.333323  0.090502  0.562390  0.109928   \n",
       "2   0.550536  0.139805   0.444923  0.085954  0.427002  0.103163   \n",
       "3   0.580122  0.143676   0.493996  0.114301  0.378424  0.127256   \n",
       "4   0.592570  0.142655   0.493996  0.114301  0.378424  0.127256   \n",
       "\n",
       "                         geometry  field  vinyard  \n",
       "0  POINT (575125.000 6833885.000)   2690      1.0  \n",
       "1  POINT (575135.000 6833885.000)   2690      1.0  \n",
       "2  POINT (575155.000 6833885.000)   2691      0.0  \n",
       "3  POINT (575165.000 6833885.000)   2691      0.0  \n",
       "4  POINT (575175.000 6833885.000)   2691      0.0  "
      ]
     },
     "execution_count": 69,
     "metadata": {},
     "output_type": "execute_result"
    }
   ],
   "source": [
    "samples.head()"
   ]
  },
  {
   "cell_type": "markdown",
   "metadata": {
    "ExecuteTime": {
     "end_time": "2020-02-10T00:32:24.878056Z",
     "start_time": "2020-02-10T00:32:24.875819Z"
    }
   },
   "source": [
    "## Set up data for modeling"
   ]
  },
  {
   "cell_type": "code",
   "execution_count": 84,
   "metadata": {
    "ExecuteTime": {
     "end_time": "2020-02-12T19:12:33.886889Z",
     "start_time": "2020-02-12T19:12:33.882397Z"
    }
   },
   "outputs": [],
   "source": [
    "from sklearn.neighbors import KNeighborsClassifier\n",
    "from sklearn.linear_model import LogisticRegression\n",
    "from sklearn import model_selection\n",
    "from sklearn.model_selection import GroupShuffleSplit, StratifiedKFold, cross_val_score, train_test_split, GridSearchCV\n",
    "from sklearn import linear_model, svm, naive_bayes, neighbors, ensemble\n",
    "from sklearn.metrics import precision_score, recall_score, precision_recall_curve,f1_score, fbeta_score, auc, roc_curve, roc_auc_score, plot_roc_curve\n",
    "from sklearn.pipeline import Pipeline\n",
    "from sklearn.ensemble import RandomForestClassifier, GradientBoostingClassifier"
   ]
  },
  {
   "cell_type": "code",
   "execution_count": 95,
   "metadata": {
    "ExecuteTime": {
     "end_time": "2020-02-12T20:08:00.496017Z",
     "start_time": "2020-02-12T20:08:00.489682Z"
    }
   },
   "outputs": [],
   "source": [
    "# Function to split testing and training data\n",
    "def get_field_split_data(df, test_size=.2, seed=42):\n",
    "    '''This function splits the data by field ID to maintain spatial independence of train and test. \n",
    "    If we use points within the same field for training and testing we would basically \n",
    "    be testing our model with training points\n",
    "    '''\n",
    "    rs = np.random.RandomState(seed)\n",
    "    \n",
    "    total_fields = samples['field'].unique() \n",
    "    test_fields = rs.choice(total_fields, \n",
    "                           size=int(total_fields.shape[0] * test_size), \n",
    "                           replace=False)\n",
    "\n",
    "    df_train = samples[~samples['field'].isin(test_fields)]\n",
    "    df_test = samples[samples['field'].isin(test_fields)] \n",
    "\n",
    "    y_train, y_test = df_train['vinyard'], df_test['vinyard']\n",
    "    X_train = df_train.drop(['field','geometry','crop', 'vinyard'],axis=1) \n",
    "    X_test = df_test.drop(['field','geometry','crop', 'vinyard'],axis=1)\n",
    "\n",
    "    return X_train, X_test, y_train, y_test, df_train, df_test"
   ]
  },
  {
   "cell_type": "code",
   "execution_count": 96,
   "metadata": {
    "ExecuteTime": {
     "end_time": "2020-02-12T20:08:01.325756Z",
     "start_time": "2020-02-12T20:08:01.248589Z"
    }
   },
   "outputs": [],
   "source": [
    "# Split data\n",
    "X_train, X_test, y_train, y_test, field_train, field_test = get_field_split_data(samples)"
   ]
  },
  {
   "cell_type": "code",
   "execution_count": 97,
   "metadata": {
    "ExecuteTime": {
     "end_time": "2020-02-12T20:08:06.830677Z",
     "start_time": "2020-02-12T20:08:06.627382Z"
    }
   },
   "outputs": [
    {
     "name": "stderr",
     "output_type": "stream",
     "text": [
      "/Users/AuerPower/opt/miniconda3/envs/metis/lib/python3.7/site-packages/pandas/core/indexing.py:376: SettingWithCopyWarning: \n",
      "A value is trying to be set on a copy of a slice from a DataFrame.\n",
      "Try using .loc[row_indexer,col_indexer] = value instead\n",
      "\n",
      "See the caveats in the documentation: http://pandas.pydata.org/pandas-docs/stable/user_guide/indexing.html#returning-a-view-versus-a-copy\n",
      "  self.obj[key] = _infer_fill_value(value)\n",
      "/Users/AuerPower/opt/miniconda3/envs/metis/lib/python3.7/site-packages/pandas/core/indexing.py:494: SettingWithCopyWarning: \n",
      "A value is trying to be set on a copy of a slice from a DataFrame.\n",
      "Try using .loc[row_indexer,col_indexer] = value instead\n",
      "\n",
      "See the caveats in the documentation: http://pandas.pydata.org/pandas-docs/stable/user_guide/indexing.html#returning-a-view-versus-a-copy\n",
      "  self.obj[item] = s\n"
     ]
    },
    {
     "data": {
      "text/html": [
       "<div>\n",
       "<style scoped>\n",
       "    .dataframe tbody tr th:only-of-type {\n",
       "        vertical-align: middle;\n",
       "    }\n",
       "\n",
       "    .dataframe tbody tr th {\n",
       "        vertical-align: top;\n",
       "    }\n",
       "\n",
       "    .dataframe thead th {\n",
       "        text-align: right;\n",
       "    }\n",
       "</style>\n",
       "<table border=\"1\" class=\"dataframe\">\n",
       "  <thead>\n",
       "    <tr style=\"text-align: right;\">\n",
       "      <th></th>\n",
       "      <th>crop</th>\n",
       "      <th>gndvi_mean</th>\n",
       "      <th>gndvi_std</th>\n",
       "      <th>msi_mean</th>\n",
       "      <th>msi_std</th>\n",
       "      <th>ndii_mean</th>\n",
       "      <th>ndii_std</th>\n",
       "      <th>ndvi_mean</th>\n",
       "      <th>ndvi_std</th>\n",
       "      <th>nrde_mean</th>\n",
       "      <th>nrde_std</th>\n",
       "      <th>re_mean</th>\n",
       "      <th>re_std</th>\n",
       "      <th>geometry</th>\n",
       "      <th>field</th>\n",
       "      <th>vinyard</th>\n",
       "      <th>split</th>\n",
       "    </tr>\n",
       "  </thead>\n",
       "  <tbody>\n",
       "    <tr>\n",
       "      <th>2</th>\n",
       "      <td>4.0</td>\n",
       "      <td>0.512671</td>\n",
       "      <td>0.080293</td>\n",
       "      <td>0.686751</td>\n",
       "      <td>0.155244</td>\n",
       "      <td>0.195134</td>\n",
       "      <td>0.102591</td>\n",
       "      <td>0.550536</td>\n",
       "      <td>0.139805</td>\n",
       "      <td>0.444923</td>\n",
       "      <td>0.085954</td>\n",
       "      <td>0.427002</td>\n",
       "      <td>0.103163</td>\n",
       "      <td>POINT (575155.000 6833885.000)</td>\n",
       "      <td>2691</td>\n",
       "      <td>0.0</td>\n",
       "      <td>train</td>\n",
       "    </tr>\n",
       "    <tr>\n",
       "      <th>3</th>\n",
       "      <td>4.0</td>\n",
       "      <td>0.530932</td>\n",
       "      <td>0.085214</td>\n",
       "      <td>0.627883</td>\n",
       "      <td>0.225130</td>\n",
       "      <td>1.179418</td>\n",
       "      <td>2.848550</td>\n",
       "      <td>0.580122</td>\n",
       "      <td>0.143676</td>\n",
       "      <td>0.493996</td>\n",
       "      <td>0.114301</td>\n",
       "      <td>0.378424</td>\n",
       "      <td>0.127256</td>\n",
       "      <td>POINT (575165.000 6833885.000)</td>\n",
       "      <td>2691</td>\n",
       "      <td>0.0</td>\n",
       "      <td>train</td>\n",
       "    </tr>\n",
       "    <tr>\n",
       "      <th>4</th>\n",
       "      <td>4.0</td>\n",
       "      <td>0.542835</td>\n",
       "      <td>0.084822</td>\n",
       "      <td>0.627883</td>\n",
       "      <td>0.225130</td>\n",
       "      <td>1.179418</td>\n",
       "      <td>2.848550</td>\n",
       "      <td>0.592570</td>\n",
       "      <td>0.142655</td>\n",
       "      <td>0.493996</td>\n",
       "      <td>0.114301</td>\n",
       "      <td>0.378424</td>\n",
       "      <td>0.127256</td>\n",
       "      <td>POINT (575175.000 6833885.000)</td>\n",
       "      <td>2691</td>\n",
       "      <td>0.0</td>\n",
       "      <td>train</td>\n",
       "    </tr>\n",
       "    <tr>\n",
       "      <th>5</th>\n",
       "      <td>4.0</td>\n",
       "      <td>0.547963</td>\n",
       "      <td>0.084809</td>\n",
       "      <td>0.594331</td>\n",
       "      <td>0.225558</td>\n",
       "      <td>1.206102</td>\n",
       "      <td>2.841755</td>\n",
       "      <td>0.601949</td>\n",
       "      <td>0.139470</td>\n",
       "      <td>0.515107</td>\n",
       "      <td>0.112529</td>\n",
       "      <td>0.358992</td>\n",
       "      <td>0.120293</td>\n",
       "      <td>POINT (575185.000 6833885.000)</td>\n",
       "      <td>2691</td>\n",
       "      <td>0.0</td>\n",
       "      <td>train</td>\n",
       "    </tr>\n",
       "    <tr>\n",
       "      <th>6</th>\n",
       "      <td>4.0</td>\n",
       "      <td>0.556201</td>\n",
       "      <td>0.086872</td>\n",
       "      <td>0.594331</td>\n",
       "      <td>0.225558</td>\n",
       "      <td>1.206102</td>\n",
       "      <td>2.841755</td>\n",
       "      <td>0.612115</td>\n",
       "      <td>0.142207</td>\n",
       "      <td>0.515107</td>\n",
       "      <td>0.112529</td>\n",
       "      <td>0.358992</td>\n",
       "      <td>0.120293</td>\n",
       "      <td>POINT (575195.000 6833885.000)</td>\n",
       "      <td>2691</td>\n",
       "      <td>0.0</td>\n",
       "      <td>train</td>\n",
       "    </tr>\n",
       "  </tbody>\n",
       "</table>\n",
       "</div>"
      ],
      "text/plain": [
       "   crop  gndvi_mean  gndvi_std  msi_mean   msi_std  ndii_mean  ndii_std  \\\n",
       "2   4.0    0.512671   0.080293  0.686751  0.155244   0.195134  0.102591   \n",
       "3   4.0    0.530932   0.085214  0.627883  0.225130   1.179418  2.848550   \n",
       "4   4.0    0.542835   0.084822  0.627883  0.225130   1.179418  2.848550   \n",
       "5   4.0    0.547963   0.084809  0.594331  0.225558   1.206102  2.841755   \n",
       "6   4.0    0.556201   0.086872  0.594331  0.225558   1.206102  2.841755   \n",
       "\n",
       "   ndvi_mean  ndvi_std  nrde_mean  nrde_std   re_mean    re_std  \\\n",
       "2   0.550536  0.139805   0.444923  0.085954  0.427002  0.103163   \n",
       "3   0.580122  0.143676   0.493996  0.114301  0.378424  0.127256   \n",
       "4   0.592570  0.142655   0.493996  0.114301  0.378424  0.127256   \n",
       "5   0.601949  0.139470   0.515107  0.112529  0.358992  0.120293   \n",
       "6   0.612115  0.142207   0.515107  0.112529  0.358992  0.120293   \n",
       "\n",
       "                         geometry  field  vinyard  split  \n",
       "2  POINT (575155.000 6833885.000)   2691      0.0  train  \n",
       "3  POINT (575165.000 6833885.000)   2691      0.0  train  \n",
       "4  POINT (575175.000 6833885.000)   2691      0.0  train  \n",
       "5  POINT (575185.000 6833885.000)   2691      0.0  train  \n",
       "6  POINT (575195.000 6833885.000)   2691      0.0  train  "
      ]
     },
     "execution_count": 97,
     "metadata": {},
     "output_type": "execute_result"
    }
   ],
   "source": [
    "#dfmi.loc[:, ('one', 'second')]\n",
    "field_train.loc[:,'split'] = 'train'\n",
    "field_test.loc[:,'split'] = 'test'\n",
    "train_test = field_train.append(field_test)\n",
    "train_test.head()"
   ]
  },
  {
   "cell_type": "code",
   "execution_count": 61,
   "metadata": {
    "ExecuteTime": {
     "end_time": "2020-02-12T07:59:33.334448Z",
     "start_time": "2020-02-12T07:59:33.104438Z"
    }
   },
   "outputs": [
    {
     "data": {
      "text/plain": [
       "{'init': 'epsg:32734'}"
      ]
     },
     "execution_count": 61,
     "metadata": {},
     "output_type": "execute_result"
    }
   ],
   "source": [
    "# Plot training and test datasets\n",
    "cropped_crop = gpd.read_file('/Users/AuerPower/Metis/git/crop-classification/data/intermediate/orange_river_crop_ext.shp')\n",
    "prj = cropped_crop.crs\n",
    "cropped_crop = cropped_crop.merge(train_test, how='left', left_on='Field_Id', right_on='field')\n",
    "cropped_crop = cropped_crop.filter(['Field_Id','Crop_Id_Ne','geometry_x','vinyard', 'split'], axis=1)\n",
    "cropped_crop = cropped_crop.rename({'geometry_x':'geometry'}, axis='columns')\n",
    "cropped_crop = gpd.GeoDataFrame(cropped_crop, crs=prj, geometry='geometry')\n",
    "cropped_crop.crs"
   ]
  },
  {
   "cell_type": "code",
   "execution_count": 62,
   "metadata": {
    "ExecuteTime": {
     "end_time": "2020-02-12T08:02:38.628875Z",
     "start_time": "2020-02-12T08:02:12.472743Z"
    }
   },
   "outputs": [
    {
     "data": {
      "image/png": "[encoded data removed]",
      "text/plain": [
       "<Figure size 360x720 with 1 Axes>"
      ]
     },
     "metadata": {
      "needs_background": "light"
     },
     "output_type": "display_data"
    }
   ],
   "source": [
    "# Plot training and test datasets\n",
    "cropped_crop = gpd.read_file('/Users/AuerPower/Metis/git/crop-classification/data/intermediate/orange_river_crop_ext.shp')\n",
    "prj = cropped_crop.crs\n",
    "cropped_crop = cropped_crop.merge(train_test, how='left', left_on='Field_Id', right_on='field')\n",
    "cropped_crop = cropped_crop.filter(['Field_Id','Crop_Id_Ne','geometry_x','vinyard', 'split'], axis=1)\n",
    "cropped_crop = cropped_crop.rename({'geometry_x':'geometry'}, axis='columns')\n",
    "cropped_crop = gpd.GeoDataFrame(cropped_crop, crs=prj, geometry='geometry')\n",
    "cropped_crop.to_file(\"/Users/AuerPower/Metis/git/crop-classification/data/intermediate/test_train_subset.shp\")\n",
    "\n",
    "cropped_crop.plot(column='split', figsize=(5, 10), cmap='Set1', legend=True)\n",
    "plt.axis(\"off\");"
   ]
  },
  {
   "cell_type": "code",
   "execution_count": 100,
   "metadata": {
    "ExecuteTime": {
     "end_time": "2020-02-10T03:03:31.556401Z",
     "start_time": "2020-02-10T03:03:30.620557Z"
    }
   },
   "outputs": [
    {
     "data": {
      "image/png": "[encoded data removed]",
      "text/plain": [
       "<Figure size 432x288 with 2 Axes>"
      ]
     },
     "metadata": {
      "needs_background": "light"
     },
     "output_type": "display_data"
    }
   ],
   "source": [
    "# scatter plot matrix\n",
    "sns.heatmap(samples.sample(frac = 0.1).corr(), cmap=\"seismic\", annot=True, vmin=-1, vmax=1);"
   ]
  },
  {
   "cell_type": "code",
   "execution_count": 98,
   "metadata": {
    "ExecuteTime": {
     "end_time": "2020-02-12T20:08:18.389174Z",
     "start_time": "2020-02-12T20:08:18.239988Z"
    }
   },
   "outputs": [
    {
     "data": {
      "image/png": "[encoded data removed]",
      "text/plain": [
       "<Figure size 1008x576 with 1 Axes>"
      ]
     },
     "metadata": {
      "needs_background": "light"
     },
     "output_type": "display_data"
    }
   ],
   "source": [
    "# Plot distribution of values\n",
    "ax = samples['vinyard'].value_counts().plot(kind='bar', figsize=(14,8))"
   ]
  },
  {
   "cell_type": "markdown",
   "metadata": {
    "ExecuteTime": {
     "end_time": "2020-02-11T01:33:01.301400Z",
     "start_time": "2020-02-11T01:33:01.299251Z"
    },
    "heading_collapsed": true
   },
   "source": [
    "## Preliminary models"
   ]
  },
  {
   "cell_type": "code",
   "execution_count": 103,
   "metadata": {
    "ExecuteTime": {
     "end_time": "2020-02-10T03:09:27.096367Z",
     "start_time": "2020-02-10T03:09:22.262871Z"
    },
    "hidden": true
   },
   "outputs": [
    {
     "name": "stdout",
     "output_type": "stream",
     "text": [
      "The score for kNN is\n",
      "Training:  97.12%\n",
      "Test set:  80.99%\n"
     ]
    }
   ],
   "source": [
    "knn = KNeighborsClassifier(n_neighbors=5)\n",
    "knn.fit(X_train, y_train)\n",
    "print(\"The score for kNN is\")\n",
    "print(\"Training: {:6.2f}%\".format(100*knn.score(X_train, y_train)))\n",
    "print(\"Test set: {:6.2f}%\".format(100*knn.score(X_test, y_test)))"
   ]
  },
  {
   "cell_type": "code",
   "execution_count": 76,
   "metadata": {
    "ExecuteTime": {
     "end_time": "2020-02-12T18:45:28.223487Z",
     "start_time": "2020-02-12T18:44:16.572838Z"
    },
    "hidden": true
   },
   "outputs": [
    {
     "name": "stdout",
     "output_type": "stream",
     "text": [
      "The score for rf is\n",
      "Training: 100.00%\n",
      "Test set:  87.00%\n"
     ]
    }
   ],
   "source": [
    "rf = ensemble.RandomForestClassifier(n_estimators=500)\n",
    "rf.fit(X_train, y_train)\n",
    "print(\"The score for rf is\")\n",
    "print(\"Training: {:6.2f}%\".format(100*rf.score(X_train, y_train)))\n",
    "print(\"Test set: {:6.2f}%\".format(100*rf.score(X_test, y_test)))"
   ]
  },
  {
   "cell_type": "code",
   "execution_count": 110,
   "metadata": {
    "ExecuteTime": {
     "end_time": "2020-02-10T03:42:23.954929Z",
     "start_time": "2020-02-10T03:42:22.986626Z"
    },
    "hidden": true
   },
   "outputs": [
    {
     "data": {
      "image/png": "[encoded data removed]",
      "text/plain": [
       "<Figure size 432x288 with 2 Axes>"
      ]
     },
     "metadata": {
      "needs_background": "light"
     },
     "output_type": "display_data"
    }
   ],
   "source": [
    "# # Print confusion matrix for random forests\n",
    "rf_confusion = confusion_matrix(y_test, rf.predict(X_test))\n",
    "# plt.figure(dpi=150)\n",
    "sns.heatmap(rf_confusion, cmap=plt.cm.Blues, annot=True, square=True, fmt='g')\n",
    "#            xticklabels=samples['crop'],\n",
    "#            yticklabels=samples['crop'])\n",
    "\n",
    "plt.xlabel('Predicted Vinyard')\n",
    "plt.ylabel('Actual Vinyard')\n",
    "plt.title('Random Forest confusion matrix');"
   ]
  },
  {
   "cell_type": "markdown",
   "metadata": {
    "hidden": true
   },
   "source": [
    "To summarize the confusion matrix : \n",
    "- TRUE POSITIVES (TP)= 3147\n",
    "- TRUE NEGATIVES (TN)= 15065\n",
    "- FALSE POSITIVES (FP)= 1234\n",
    "- FALSE NEGATIVES (FN)= 1379."
   ]
  },
  {
   "cell_type": "code",
   "execution_count": 115,
   "metadata": {
    "ExecuteTime": {
     "end_time": "2020-02-10T04:39:28.060130Z",
     "start_time": "2020-02-10T04:39:27.218844Z"
    },
    "hidden": true
   },
   "outputs": [
    {
     "data": {
      "text/plain": [
       "array([0., 0., 1., ..., 0., 0., 0.])"
      ]
     },
     "execution_count": 115,
     "metadata": {},
     "output_type": "execute_result"
    }
   ],
   "source": [
    "rf.predict(X_test)"
   ]
  },
  {
   "cell_type": "code",
   "execution_count": 118,
   "metadata": {
    "ExecuteTime": {
     "end_time": "2020-02-10T04:42:23.121889Z",
     "start_time": "2020-02-10T04:42:21.377291Z"
    },
    "hidden": true
   },
   "outputs": [
    {
     "name": "stdout",
     "output_type": "stream",
     "text": [
      "ROC AUC score =  0.9120840609058997\n"
     ]
    },
    {
     "data": {
      "image/png": "[encoded data removed]",
      "text/plain": [
       "<Figure size 432x288 with 1 Axes>"
      ]
     },
     "metadata": {
      "needs_background": "light"
     },
     "output_type": "display_data"
    }
   ],
   "source": [
    "fpr, tpr, thresholds = roc_curve(y_test, rf.predict_proba(X_test)[:,1])\n",
    "\n",
    "plt.plot(fpr, tpr,lw=2)\n",
    "plt.plot([0,1],[0,1],c='violet',ls='--')\n",
    "plt.xlim([-0.05,1.05])\n",
    "plt.ylim([-0.05,1.05])\n",
    "\n",
    "plt.xlabel('False positive rate')\n",
    "plt.ylabel('True positive rate')\n",
    "plt.title('ROC curve for Vinyard');\n",
    "print(\"ROC AUC score = \", roc_auc_score(y_test, rf.predict_proba(X_test)[:,1]))"
   ]
  },
  {
   "cell_type": "markdown",
   "metadata": {
    "ExecuteTime": {
     "end_time": "2020-02-10T02:40:13.805374Z",
     "start_time": "2020-02-10T02:40:13.798072Z"
    }
   },
   "source": [
    "## Model Selection Using Grid Search\n",
    "This took 4 hours to run\n",
    "\n",
    "This was the output of the best model after grid search:\n",
    "\n",
    "```SVC(C=1000, break_ties=False, cache_size=200, class_weight=None, coef0=0.0,\n",
    "    decision_function_shape='ovr', degree=3, gamma='scale', kernel='rbf',\n",
    "    max_iter=-1, probability=False, random_state=None, shrinking=True,\n",
    "    tol=0.001, verbose=False)\n",
    "The mean F1 of the model is: 0.8960440901043053\n",
    "```"
   ]
  },
  {
   "cell_type": "code",
   "execution_count": 120,
   "metadata": {
    "ExecuteTime": {
     "end_time": "2020-02-10T04:45:11.765179Z",
     "start_time": "2020-02-10T04:45:11.757691Z"
    }
   },
   "outputs": [],
   "source": [
    "# Create a pipeline\n",
    "pipe = Pipeline([(\"classifier\", RandomForestClassifier())])\n",
    "\n",
    "# Create dictionary with candidate learning algorithms and their hyperparameters\n",
    "search_space = [{\"classifier\": [LogisticRegression()],\n",
    "                 \"classifier__penalty\": ['l2','l1'],\n",
    "                 \"classifier__C\": np.logspace(0, 4, 10)\n",
    "                 },\n",
    "                {\"classifier\": [LogisticRegression()],\n",
    "                 \"classifier__penalty\": ['l2'],\n",
    "                 \"classifier__C\": np.logspace(0, 4, 10),\n",
    "                 \"classifier__solver\":['newton-cg','saga','sag','liblinear'] ##This solvers don't allow L1 penalty\n",
    "                 },\n",
    "                {\"classifier\": [RandomForestClassifier()],\n",
    "                 \"classifier__n_estimators\": [100, 120, 300, 500, 800, 1200],\n",
    "                 \"classifier__max_depth\":[3,4,5,20,None],\n",
    "                 \"classifier__min_samples_leaf\":[1,2,5,10,15,100],\n",
    "                 \"classifier__max_leaf_nodes\": [2, 5,10]\n",
    "                },\n",
    "               {\"classifier\": [KNeighborsClassifier()],\n",
    "                 \"classifier__n_neighbors\": [2,4,8,16],\n",
    "                 },\n",
    "                {\"classifier\": [svm.SVC()],\n",
    "                 \"classifier__C\": [0.001, 0.01, 10, 100, 1000],\n",
    "                 \"classifier__class_weight\":['Balanced', None]\n",
    "#                  },\n",
    "#                 \"classifier\":[GradientBoostingClassifier()], # was going to try this one but didn't have time\n",
    "#                 \"classifier__n_estimators\": [100, 120, 300, 500, 800, 1200]\n",
    "#                 'max_depth': [3, 4, 5, 25, 30]\n",
    "                }]"
   ]
  },
  {
   "cell_type": "code",
   "execution_count": 121,
   "metadata": {
    "ExecuteTime": {
     "end_time": "2020-02-10T08:50:22.840953Z",
     "start_time": "2020-02-10T04:54:05.358842Z"
    }
   },
   "outputs": [],
   "source": [
    "# Create grid search \n",
    "gridsearch = GridSearchCV(pipe, search_space, cv=5, verbose=0, scoring='f1', n_jobs=-1)\n",
    "\n",
    "# Fit grid search\n",
    "best_model = gridsearch.fit(X_train, y_train)"
   ]
  },
  {
   "cell_type": "code",
   "execution_count": 123,
   "metadata": {
    "ExecuteTime": {
     "end_time": "2020-02-10T17:11:28.504562Z",
     "start_time": "2020-02-10T17:11:06.411771Z"
    }
   },
   "outputs": [
    {
     "name": "stdout",
     "output_type": "stream",
     "text": [
      "SVC(C=1000, break_ties=False, cache_size=200, class_weight=None, coef0=0.0,\n",
      "    decision_function_shape='ovr', degree=3, gamma='scale', kernel='rbf',\n",
      "    max_iter=-1, probability=False, random_state=None, shrinking=True,\n",
      "    tol=0.001, verbose=False)\n",
      "The mean F1 of the model is: 0.8960440901043053\n"
     ]
    }
   ],
   "source": [
    "# View best model results\n",
    "print(best_model.best_estimator_.get_params()['classifier'])\n",
    "print(\"The mean F1 of the model is:\", best_model.score(X_train, y_train))"
   ]
  },
  {
   "cell_type": "code",
   "execution_count": 89,
   "metadata": {
    "ExecuteTime": {
     "end_time": "2020-02-12T20:06:41.825721Z",
     "start_time": "2020-02-12T20:06:41.818731Z"
    }
   },
   "outputs": [],
   "source": [
    "## Save the model for future use\n",
    "import pickle\n",
    "\n",
    "with open(\"/Users/AuerPower/Metis/git/crop-classification/outputs/Models/best_model.pkl\", \"wb\") as f:\n",
    "    pickle.dump(best_model, f)"
   ]
  },
  {
   "cell_type": "code",
   "execution_count": 126,
   "metadata": {
    "ExecuteTime": {
     "end_time": "2020-02-10T17:13:35.160222Z",
     "start_time": "2020-02-10T17:13:27.953066Z"
    }
   },
   "outputs": [
    {
     "data": {
      "image/png": "[encoded data removed]",
      "text/plain": [
       "<Figure size 600x400 with 2 Axes>"
      ]
     },
     "metadata": {
      "needs_background": "light"
     },
     "output_type": "display_data"
    }
   ],
   "source": [
    "## Print confusion matrix for best model\n",
    "confusion = confusion_matrix(y_test, best_model.predict(X_test))\n",
    "plt.figure(dpi=100)\n",
    "sns.heatmap(confusion, cmap=plt.cm.Blues, annot=True, square=True, fmt='g')\n",
    "#           xticklabels=crop_names[''],\n",
    "#            yticklabels=crop_names['crop'])\n",
    "\n",
    "plt.xlabel('Predicted Vinyard')\n",
    "plt.ylabel('Actual Vinyard')\n",
    "plt.title('SVC confusion matrix');"
   ]
  },
  {
   "cell_type": "code",
   "execution_count": 99,
   "metadata": {
    "ExecuteTime": {
     "end_time": "2020-02-12T20:15:55.500770Z",
     "start_time": "2020-02-12T20:08:44.082566Z"
    }
   },
   "outputs": [],
   "source": [
    "#Predict target with best model parameters, except change probability to True so we can plot ROC\n",
    "svc_model = svm.SVC(C=1000, break_ties=False, cache_size=200, class_weight=None, coef0=0.0,\n",
    "    decision_function_shape='ovr', degree=3, gamma='scale', kernel='rbf',\n",
    "    max_iter=-1, probability=True, random_state=None, shrinking=True,\n",
    "    tol=0.001, verbose=False)\n",
    "\n",
    "best_model = svc_model.fit(X_train, y_train)"
   ]
  },
  {
   "cell_type": "code",
   "execution_count": 87,
   "metadata": {
    "ExecuteTime": {
     "end_time": "2020-02-12T19:33:32.329745Z",
     "start_time": "2020-02-12T19:33:18.421021Z"
    }
   },
   "outputs": [
    {
     "name": "stdout",
     "output_type": "stream",
     "text": [
      "The F1 of the model is: 0.8695797868775551\n",
      "ROC AUC score =  0.9254217520622784\n"
     ]
    },
    {
     "data": {
      "image/png": "[encoded data removed]",
      "text/plain": [
       "<Figure size 432x288 with 1 Axes>"
      ]
     },
     "metadata": {
      "needs_background": "light"
     },
     "output_type": "display_data"
    }
   ],
   "source": [
    "# Plot ROC for best model\n",
    "fpr, tpr, thresholds = roc_curve(y_test, best_model.predict_proba(X_test)[:,1])\n",
    "\n",
    "plt.plot(fpr, tpr,lw=2)\n",
    "plt.plot([0,1],[0,1],c='violet',ls='--')\n",
    "plt.xlim([-0.05,1.05])\n",
    "plt.ylim([-0.05,1.05])\n",
    "\n",
    "plt.xlabel('False positive rate')\n",
    "plt.ylabel('True positive rate')\n",
    "plt.title('ROC curve for Vinyard');\n",
    "print(\"The of the model is:\", best_model.score(X_test, y_test))\n",
    "print(\"ROC AUC score = \", roc_auc_score(y_test, best_model.predict_proba(X_test)[:,1]))"
   ]
  },
  {
   "cell_type": "code",
   "execution_count": 137,
   "metadata": {
    "ExecuteTime": {
     "end_time": "2020-02-10T20:58:29.100363Z",
     "start_time": "2020-02-10T20:57:25.209229Z"
    }
   },
   "outputs": [
    {
     "data": {
      "image/png": "[encoded data removed]",
      "text/plain": [
       "<Figure size 432x288 with 1 Axes>"
      ]
     },
     "metadata": {
      "needs_background": "light"
     },
     "output_type": "display_data"
    }
   ],
   "source": [
    "# Get variable importance with RF\n",
    "rf_model.fit(X_train, y_train)\n",
    "features = X_train.columns\n",
    "importances = rf_model.feature_importances_\n",
    "indices = np.argsort(importances)\n",
    "plt.title('Random Forest Feature Importances')\n",
    "plt.barh(range(len(indices)), importances[indices], color='b', align='center')\n",
    "plt.yticks(range(len(indices)), [features[i] for i in indices])\n",
    "plt.xlabel('Relative Importance')\n",
    "plt.show()"
   ]
  },
  {
   "cell_type": "markdown",
   "metadata": {},
   "source": [
    "## Map errors"
   ]
  },
  {
   "cell_type": "code",
   "execution_count": 32,
   "metadata": {
    "ExecuteTime": {
     "end_time": "2020-02-12T01:39:52.221687Z",
     "start_time": "2020-02-12T01:39:45.188615Z"
    }
   },
   "outputs": [
    {
     "data": {
      "text/plain": [
       "array([0., 0., 1., ..., 0., 0., 0.])"
      ]
     },
     "execution_count": 32,
     "metadata": {},
     "output_type": "execute_result"
    }
   ],
   "source": [
    "## Plot map of errors\n",
    "final_prediction = best_model.predict(X_test)\n",
    "final_prediction"
   ]
  },
  {
   "cell_type": "code",
   "execution_count": 54,
   "metadata": {
    "ExecuteTime": {
     "end_time": "2020-02-12T04:54:48.606828Z",
     "start_time": "2020-02-12T04:54:48.558065Z"
    }
   },
   "outputs": [
    {
     "data": {
      "text/html": [
       "<div>\n",
       "<style scoped>\n",
       "    .dataframe tbody tr th:only-of-type {\n",
       "        vertical-align: middle;\n",
       "    }\n",
       "\n",
       "    .dataframe tbody tr th {\n",
       "        vertical-align: top;\n",
       "    }\n",
       "\n",
       "    .dataframe thead th {\n",
       "        text-align: right;\n",
       "    }\n",
       "</style>\n",
       "<table border=\"1\" class=\"dataframe\">\n",
       "  <thead>\n",
       "    <tr style=\"text-align: right;\">\n",
       "      <th></th>\n",
       "      <th>predicted</th>\n",
       "      <th>crop</th>\n",
       "      <th>re_std</th>\n",
       "      <th>geometry</th>\n",
       "      <th>field</th>\n",
       "      <th>vinyard</th>\n",
       "    </tr>\n",
       "  </thead>\n",
       "  <tbody>\n",
       "    <tr>\n",
       "      <th>0</th>\n",
       "      <td>0.0</td>\n",
       "      <td>8.0</td>\n",
       "      <td>0.109928</td>\n",
       "      <td>POINT (575125.000 6833885.000)</td>\n",
       "      <td>2690</td>\n",
       "      <td>1.0</td>\n",
       "    </tr>\n",
       "    <tr>\n",
       "      <th>1</th>\n",
       "      <td>0.0</td>\n",
       "      <td>8.0</td>\n",
       "      <td>0.109928</td>\n",
       "      <td>POINT (575135.000 6833885.000)</td>\n",
       "      <td>2690</td>\n",
       "      <td>1.0</td>\n",
       "    </tr>\n",
       "    <tr>\n",
       "      <th>43</th>\n",
       "      <td>1.0</td>\n",
       "      <td>8.0</td>\n",
       "      <td>0.177512</td>\n",
       "      <td>POINT (575105.000 6833875.000)</td>\n",
       "      <td>2690</td>\n",
       "      <td>1.0</td>\n",
       "    </tr>\n",
       "    <tr>\n",
       "      <th>44</th>\n",
       "      <td>1.0</td>\n",
       "      <td>8.0</td>\n",
       "      <td>0.177512</td>\n",
       "      <td>POINT (575115.000 6833875.000)</td>\n",
       "      <td>2690</td>\n",
       "      <td>1.0</td>\n",
       "    </tr>\n",
       "    <tr>\n",
       "      <th>45</th>\n",
       "      <td>1.0</td>\n",
       "      <td>8.0</td>\n",
       "      <td>0.182633</td>\n",
       "      <td>POINT (575125.000 6833875.000)</td>\n",
       "      <td>2690</td>\n",
       "      <td>1.0</td>\n",
       "    </tr>\n",
       "  </tbody>\n",
       "</table>\n",
       "</div>"
      ],
      "text/plain": [
       "    predicted  crop    re_std                        geometry  field  vinyard\n",
       "0         0.0   8.0  0.109928  POINT (575125.000 6833885.000)   2690      1.0\n",
       "1         0.0   8.0  0.109928  POINT (575135.000 6833885.000)   2690      1.0\n",
       "43        1.0   8.0  0.177512  POINT (575105.000 6833875.000)   2690      1.0\n",
       "44        1.0   8.0  0.177512  POINT (575115.000 6833875.000)   2690      1.0\n",
       "45        1.0   8.0  0.182633  POINT (575125.000 6833875.000)   2690      1.0"
      ]
     },
     "execution_count": 54,
     "metadata": {},
     "output_type": "execute_result"
    }
   ],
   "source": [
    "# Join with samples to get geometry of predicted\n",
    "prediction_df = X_test\n",
    "prediction_df['predicted'] = final_prediction\n",
    "prediction_df = prediction_df.drop(prediction_df.columns[0:12], axis=1)\n",
    "prediction_df = prediction_df.merge(samples.drop(samples.columns[1:12], axis=1),\n",
    "                                    how='left', left_index=True, right_index=True)\n",
    "prediction_df.head()"
   ]
  },
  {
   "cell_type": "code",
   "execution_count": 55,
   "metadata": {
    "ExecuteTime": {
     "end_time": "2020-02-12T04:54:51.810282Z",
     "start_time": "2020-02-12T04:54:51.805855Z"
    }
   },
   "outputs": [],
   "source": [
    "## Calculate difference between predicted and vinyard to see where the errors are\n",
    "## -1 is a false negative, 1 is a false positive, 0 is correctly predicted\n",
    "prediction_df['error'] = prediction_df['predicted'] - prediction_df['vinyard']\n",
    "prediction_df['error'] = prediction_df['error'].replace(0, 5)"
   ]
  },
  {
   "cell_type": "code",
   "execution_count": 56,
   "metadata": {
    "ExecuteTime": {
     "end_time": "2020-02-12T04:54:56.908155Z",
     "start_time": "2020-02-12T04:54:54.245907Z"
    }
   },
   "outputs": [
    {
     "data": {
      "text/html": [
       "<div>\n",
       "<style scoped>\n",
       "    .dataframe tbody tr th:only-of-type {\n",
       "        vertical-align: middle;\n",
       "    }\n",
       "\n",
       "    .dataframe tbody tr th {\n",
       "        vertical-align: top;\n",
       "    }\n",
       "\n",
       "    .dataframe thead th {\n",
       "        text-align: right;\n",
       "    }\n",
       "</style>\n",
       "<table border=\"1\" class=\"dataframe\">\n",
       "  <thead>\n",
       "    <tr style=\"text-align: right;\">\n",
       "      <th></th>\n",
       "      <th>predicted</th>\n",
       "      <th>crop</th>\n",
       "      <th>re_std</th>\n",
       "      <th>geometry</th>\n",
       "      <th>field</th>\n",
       "      <th>vinyard</th>\n",
       "      <th>error</th>\n",
       "      <th>crop_id</th>\n",
       "      <th>crop_name</th>\n",
       "      <th>error_type</th>\n",
       "    </tr>\n",
       "  </thead>\n",
       "  <tbody>\n",
       "    <tr>\n",
       "      <th>0</th>\n",
       "      <td>0.0</td>\n",
       "      <td>8.0</td>\n",
       "      <td>0.109928</td>\n",
       "      <td>POINT (575125.000 6833885.000)</td>\n",
       "      <td>2690</td>\n",
       "      <td>1.0</td>\n",
       "      <td>-1.0</td>\n",
       "      <td>8</td>\n",
       "      <td>Vineyard</td>\n",
       "      <td>FN</td>\n",
       "    </tr>\n",
       "    <tr>\n",
       "      <th>1</th>\n",
       "      <td>0.0</td>\n",
       "      <td>8.0</td>\n",
       "      <td>0.109928</td>\n",
       "      <td>POINT (575135.000 6833885.000)</td>\n",
       "      <td>2690</td>\n",
       "      <td>1.0</td>\n",
       "      <td>-1.0</td>\n",
       "      <td>8</td>\n",
       "      <td>Vineyard</td>\n",
       "      <td>FN</td>\n",
       "    </tr>\n",
       "    <tr>\n",
       "      <th>2</th>\n",
       "      <td>1.0</td>\n",
       "      <td>8.0</td>\n",
       "      <td>0.177512</td>\n",
       "      <td>POINT (575105.000 6833875.000)</td>\n",
       "      <td>2690</td>\n",
       "      <td>1.0</td>\n",
       "      <td>5.0</td>\n",
       "      <td>8</td>\n",
       "      <td>Vineyard</td>\n",
       "      <td>correct</td>\n",
       "    </tr>\n",
       "    <tr>\n",
       "      <th>3</th>\n",
       "      <td>1.0</td>\n",
       "      <td>8.0</td>\n",
       "      <td>0.177512</td>\n",
       "      <td>POINT (575115.000 6833875.000)</td>\n",
       "      <td>2690</td>\n",
       "      <td>1.0</td>\n",
       "      <td>5.0</td>\n",
       "      <td>8</td>\n",
       "      <td>Vineyard</td>\n",
       "      <td>correct</td>\n",
       "    </tr>\n",
       "    <tr>\n",
       "      <th>4</th>\n",
       "      <td>1.0</td>\n",
       "      <td>8.0</td>\n",
       "      <td>0.182633</td>\n",
       "      <td>POINT (575125.000 6833875.000)</td>\n",
       "      <td>2690</td>\n",
       "      <td>1.0</td>\n",
       "      <td>5.0</td>\n",
       "      <td>8</td>\n",
       "      <td>Vineyard</td>\n",
       "      <td>correct</td>\n",
       "    </tr>\n",
       "  </tbody>\n",
       "</table>\n",
       "</div>"
      ],
      "text/plain": [
       "   predicted  crop    re_std                        geometry  field  vinyard  \\\n",
       "0        0.0   8.0  0.109928  POINT (575125.000 6833885.000)   2690      1.0   \n",
       "1        0.0   8.0  0.109928  POINT (575135.000 6833885.000)   2690      1.0   \n",
       "2        1.0   8.0  0.177512  POINT (575105.000 6833875.000)   2690      1.0   \n",
       "3        1.0   8.0  0.177512  POINT (575115.000 6833875.000)   2690      1.0   \n",
       "4        1.0   8.0  0.182633  POINT (575125.000 6833875.000)   2690      1.0   \n",
       "\n",
       "   error  crop_id crop_name error_type  \n",
       "0   -1.0        8  Vineyard         FN  \n",
       "1   -1.0        8  Vineyard         FN  \n",
       "2    5.0        8  Vineyard    correct  \n",
       "3    5.0        8  Vineyard    correct  \n",
       "4    5.0        8  Vineyard    correct  "
      ]
     },
     "execution_count": 56,
     "metadata": {},
     "output_type": "execute_result"
    }
   ],
   "source": [
    "# get crop names associated with ID and merge\n",
    "crop_id = pd.read_csv('/Users/AuerPower/Metis/git/crop-classification/data/crop_id_list.csv')\n",
    "crop_id = crop_id.rename(columns={'crop':'crop_name'})\n",
    "prediction_df = prediction_df.merge(crop_id, how='left', left_on='crop', right_on='crop_id')\n",
    "prediction_df['error_type'] = prediction_df['error'].replace([-1, 1, 5], ['FN','FP','correct'])\n",
    "prediction_df.to_file('/Users/AuerPower/Metis/git/crop-classification/data/intermediate/error_with_crops.shp')\n",
    "prediction_df.to_csv('/Users/AuerPower/Metis/git/crop-classification/data/intermediate/error_with_crops.csv')\n",
    "prediction_df.head()"
   ]
  },
  {
   "cell_type": "code",
   "execution_count": 101,
   "metadata": {
    "ExecuteTime": {
     "end_time": "2020-02-12T20:24:09.820146Z",
     "start_time": "2020-02-12T20:24:09.275694Z"
    }
   },
   "outputs": [],
   "source": [
    "# Save prediction raster\n",
    "import rasterio as rio\n",
    "from rasterio import features\n",
    "\n",
    "rst = rio.open('/Users/AuerPower/Metis/git/crop-classification/data/intermediate/template_img_ras.tif')\n",
    "meta = rst.meta.copy()\n",
    "rst = rst.read()\n",
    "\n",
    "out_fn = '/Users/AuerPower/Metis/git/crop-classification/data/intermediate/raster_results/rasterized_prediction.tiff'\n",
    "with rio.open(out_fn, 'w+', **meta) as out:\n",
    "    out_arr = out.read(1)\n",
    "\n",
    "    # this is where we create a generator of geom, value pairs to use in rasterizing\n",
    "    shapes = ((geom,value) for geom, value in zip(prediction_df.geometry, prediction_df.predicted))\n",
    "    burned = features.rasterize(shapes=shapes, fill=0, out=out_arr, transform=out.transform)\n",
    "    out.write_band(1, burned)"
   ]
  },
  {
   "cell_type": "code",
   "execution_count": 214,
   "metadata": {
    "ExecuteTime": {
     "end_time": "2020-02-10T23:36:39.114986Z",
     "start_time": "2020-02-10T23:36:38.571553Z"
    }
   },
   "outputs": [],
   "source": [
    "# Rasterize errors to see errors on a pixel by pixel basis\n",
    "rst = rio.open('/Users/AuerPower/Metis/git/crop-classification/data/intermediate/template_img_ras.tif')\n",
    "meta = rst.meta.copy()\n",
    "rst = rst.read()\n",
    "\n",
    "out_fn = '/Users/AuerPower/Metis/git/crop-classification/data/intermediate/raster_results/rasterized_error.tiff'\n",
    "with rio.open(out_fn, 'w+', **meta) as out:\n",
    "    out_arr = out.read(1)\n",
    "\n",
    "    # this is where we create a generator of geom, value pairs to use in rasterizing\n",
    "    shapes = ((geom,value) for geom, value in zip(prediction_df.geometry, prediction_df.error))\n",
    "    burned = features.rasterize(shapes=shapes, fill=0, out=out_arr, transform=out.transform)\n",
    "    out.write_band(1, burned)"
   ]
  },
  {
   "cell_type": "code",
   "execution_count": 16,
   "metadata": {
    "ExecuteTime": {
     "end_time": "2020-02-11T07:03:08.427474Z",
     "start_time": "2020-02-11T07:03:07.568902Z"
    }
   },
   "outputs": [
    {
     "data": {
      "image/png": "[encoded data removed]",
      "text/plain": [
       "<Figure size 864x864 with 2 Axes>"
      ]
     },
     "metadata": {
      "needs_background": "light"
     },
     "output_type": "display_data"
    }
   ],
   "source": [
    "# Plot errors for test set\n",
    "from matplotlib.colors import ListedColormap\n",
    "import matplotlib.colors as colors\n",
    "import earthpy.plot as ep\n",
    "\n",
    "error_path = '/Users/AuerPower/Metis/git/crop-classification/data/intermediate/raster_results/rasterized_error.tiff'\n",
    "\n",
    "with rio.open(error_path) as src:\n",
    "    error_ras = src.read(1, masked=True)\n",
    "\n",
    "#-1 is a false negative, 1 is a false positive, 0 is correctly predicted\n",
    "cmap = ListedColormap([\"springgreen\",\"magenta\", \"darkgreen\"])\n",
    "\n",
    "ep.plot_bands(error_ras,\n",
    "              cmap=cmap,\n",
    "              title=\"Error Map\\ndark green = correctly classified, magenta = false positive, lightgreen = false negative\",\n",
    "              scale=False)\n",
    "plt.show()"
   ]
  },
  {
   "cell_type": "markdown",
   "metadata": {},
   "source": [
    "It looks like the model is getting false positives on the 'intercrop' field type which I know (based on the metadata) is vinyards and pecans. So the model is actually correctly identifiying that there are vinyards in those intercrop fields eventhough they are being counted as false positives. I wonder how much my model will improve if I take the 'intercrop' class out of my dataset?"
   ]
  }
 ],
 "metadata": {
  "kernelspec": {
   "display_name": "Python [conda env:metis] *",
   "language": "python",
   "name": "conda-env-metis-py"
  },
  "language_info": {
   "codemirror_mode": {
    "name": "ipython",
    "version": 3
   },
   "file_extension": ".py",
   "mimetype": "text/x-python",
   "name": "python",
   "nbconvert_exporter": "python",
   "pygments_lexer": "ipython3",
   "version": "3.7.4"
  }
 },
 "nbformat": 4,
 "nbformat_minor": 2
}
